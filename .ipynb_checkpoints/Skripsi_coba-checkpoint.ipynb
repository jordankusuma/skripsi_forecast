{
 "cells": [
  {
   "cell_type": "markdown",
   "metadata": {},
   "source": [
    "#  Introduction\n",
    "\n",
    "## Problem Statement\n",
    "*  there is a change in trend that occurs due to uncertain conditions causing excessive stock of goods, so sometimes goods that have been purchased cannot be resold because the product has been piling up too long in the inventory.\n",
    "\n",
    "*  determining the storage of stock goods by analyzing using sales data for the previous month / year because the data in the previous month usually has an impact on future sales, while sales that occur do not always follow the previous month's data \n",
    "\n",
    "## Data Provided\n",
    "The Data that is used in this project are\n",
    "*     **sale_items.csv** - Contains the details of historical daily sales of a customer\n",
    "*     **sales.csv** - Contains the historical daily sales of a customer\n",
    "*     **sma_categories.csv** - Contains info about category of products\n",
    "*     **sma_companies.csv** - Contains information about the customer of company X\n",
    "*     **sma_products.csv** - Contains list of products that is sold in the companies\n",
    "We will have a sneak peak into the dataset below "
   ]
  },
  {
   "cell_type": "markdown",
   "metadata": {},
   "source": [
    "# Content:\n",
    "1. Data Preprocessing\n",
    "     - Read the dataset\n",
    "     - Drop null value and several columns\n",
    "     - join dataset into 1 dataset\n",
    "2. Exploratory Data Analysis\n",
    "3. Search correlation between data\n",
    "4. Implement model\n",
    "     - use only data sales \n",
    "     - use with data external such as IHK, Inflasi, IHP\n",
    "5. Use specific data for trend product\n",
    "6. Use Time lag in analysis"
   ]
  },
  {
   "cell_type": "code",
   "execution_count": 1,
   "metadata": {},
   "outputs": [
    {
     "data": {
      "text/html": [
       "        <script type=\"text/javascript\">\n",
       "        window.PlotlyConfig = {MathJaxConfig: 'local'};\n",
       "        if (window.MathJax) {MathJax.Hub.Config({SVG: {font: \"STIX-Web\"}});}\n",
       "        if (typeof require !== 'undefined') {\n",
       "        require.undef(\"plotly\");\n",
       "        requirejs.config({\n",
       "            paths: {\n",
       "                'plotly': ['https://cdn.plot.ly/plotly-latest.min']\n",
       "            }\n",
       "        });\n",
       "        require(['plotly'], function(Plotly) {\n",
       "            window._Plotly = Plotly;\n",
       "        });\n",
       "        }\n",
       "        </script>\n",
       "        "
      ]
     },
     "metadata": {},
     "output_type": "display_data"
    },
    {
     "data": {
      "text/html": [
       "        <script type=\"text/javascript\">\n",
       "        window.PlotlyConfig = {MathJaxConfig: 'local'};\n",
       "        if (window.MathJax) {MathJax.Hub.Config({SVG: {font: \"STIX-Web\"}});}\n",
       "        if (typeof require !== 'undefined') {\n",
       "        require.undef(\"plotly\");\n",
       "        requirejs.config({\n",
       "            paths: {\n",
       "                'plotly': ['https://cdn.plot.ly/plotly-latest.min']\n",
       "            }\n",
       "        });\n",
       "        require(['plotly'], function(Plotly) {\n",
       "            window._Plotly = Plotly;\n",
       "        });\n",
       "        }\n",
       "        </script>\n",
       "        "
      ]
     },
     "metadata": {},
     "output_type": "display_data"
    },
    {
     "data": {
      "text/html": [
       "        <script type=\"text/javascript\">\n",
       "        window.PlotlyConfig = {MathJaxConfig: 'local'};\n",
       "        if (window.MathJax) {MathJax.Hub.Config({SVG: {font: \"STIX-Web\"}});}\n",
       "        if (typeof require !== 'undefined') {\n",
       "        require.undef(\"plotly\");\n",
       "        requirejs.config({\n",
       "            paths: {\n",
       "                'plotly': ['https://cdn.plot.ly/plotly-latest.min']\n",
       "            }\n",
       "        });\n",
       "        require(['plotly'], function(Plotly) {\n",
       "            window._Plotly = Plotly;\n",
       "        });\n",
       "        }\n",
       "        </script>\n",
       "        "
      ]
     },
     "metadata": {},
     "output_type": "display_data"
    }
   ],
   "source": [
    "#load library\n",
    "import numpy as np # linear algebra\n",
    "import pandas as pd # data processing, CSV file I/O (e.g. pd.read_csv)\n",
    "\n",
    "import os #using operating system dependent functionality\n",
    "from datetime import datetime#datetime module supplies classes for manipulating dates and times.\n",
    "import math # provides access to the mathematical functions\n",
    "from IPython.display import display, HTML\n",
    "\n",
    "#For Plotting\n",
    "# Using plotly + cufflinks in offline mode\n",
    "import plotly as py\n",
    "import plotly.graph_objs as go\n",
    "import plotly\n",
    "from plotly.offline import download_plotlyjs, init_notebook_mode, plot, iplot\n",
    "import cufflinks as cf\n",
    "cf.set_config_file(offline=True)\n",
    "init_notebook_mode(connected=True)\n",
    "\n",
    "import matplotlib\n",
    "import matplotlib.pyplot as plt\n",
    "import seaborn as sns\n",
    "\n",
    "#For time series decomposition\n",
    "from matplotlib import pyplot\n",
    "from statsmodels.tsa.seasonal import seasonal_decompose\n",
    "\n",
    "from datetime import timedelta\n",
    "\n",
    "#Pandas option\n",
    "pd.options.display.float_format = '{:.2f}'.format"
   ]
  },
  {
   "cell_type": "markdown",
   "metadata": {},
   "source": [
    "# 1. Data Preprocessing"
   ]
  },
  {
   "cell_type": "markdown",
   "metadata": {},
   "source": [
    "## 1.1 Read Dataset"
   ]
  },
  {
   "cell_type": "code",
   "execution_count": 2,
   "metadata": {},
   "outputs": [
    {
     "name": "stderr",
     "output_type": "stream",
     "text": [
      "C:\\Users\\USER\\anaconda3\\lib\\site-packages\\IPython\\core\\interactiveshell.py:3071: DtypeWarning:\n",
      "\n",
      "Columns (10) have mixed types.Specify dtype option on import or set low_memory=False.\n",
      "\n",
      "C:\\Users\\USER\\anaconda3\\lib\\site-packages\\IPython\\core\\interactiveshell.py:3071: DtypeWarning:\n",
      "\n",
      "Columns (14) have mixed types.Specify dtype option on import or set low_memory=False.\n",
      "\n"
     ]
    }
   ],
   "source": [
    "#read dataset\n",
    "df_sales = pd.read_csv('proyek_skripsi/sales.csv')\n",
    "df_sale_items = pd.read_csv('proyek_skripsi/sale_items.csv')\n",
    "df_products = pd.read_csv('proyek_skripsi/sma_products.csv')\n",
    "df_category = pd.read_csv('proyek_skripsi/sma_categories.csv')\n",
    "df_companies = pd.read_csv('proyek_skripsi/sma_companies.csv')\n",
    "df_ihk_inflasi = pd.read_csv(\"proyek_skripsi/Data_IHK_Inflasi_Nasional.csv\")\n",
    "df_ihp = pd.read_csv(\"proyek_skripsi/DataIHPKhususPlastikKaret.csv\")"
   ]
  },
  {
   "cell_type": "markdown",
   "metadata": {},
   "source": [
    "## 1.2 Clean Dataset"
   ]
  },
  {
   "cell_type": "code",
   "execution_count": 4,
   "metadata": {},
   "outputs": [],
   "source": [
    "def clean_data(dropped_column, df, negative_column = []):\n",
    "    df = df.drop(dropped_column, axis=1)\n",
    "    df = df[(df[negative_column] >= 0).all(1)]\n",
    "    df = df.fillna(0)\n",
    "    return df"
   ]
  },
  {
   "cell_type": "code",
   "execution_count": 5,
   "metadata": {},
   "outputs": [
    {
     "name": "stdout",
     "output_type": "stream",
     "text": [
      "<class 'pandas.core.frame.DataFrame'>\n",
      "Int64Index: 17396 entries, 0 to 17496\n",
      "Data columns (total 4 columns):\n",
      " #   Column       Non-Null Count  Dtype  \n",
      "---  ------       --------------  -----  \n",
      " 0   id           17396 non-null  int64  \n",
      " 1   date         17396 non-null  object \n",
      " 2   customer_id  17396 non-null  int64  \n",
      " 3   total        17396 non-null  float64\n",
      "dtypes: float64(1), int64(2), object(1)\n",
      "memory usage: 679.5+ KB\n"
     ]
    }
   ],
   "source": [
    "dropped_sales = ['note', 'staff_note', 'order_discount_id', 'updated_by', 'updated_at', 'return_id', \n",
    "                 'attachment', 'return_sale_ref', 'sale_id', 'rounding', 'suspend_note', 'address_id', \n",
    "                 'reserve_id', 'salesman_id', 'salesman_commission', 'total_commission', 'product_discount', \n",
    "                 'total_discount', 'grand_total', 'payment_term', 'due_date', 'paid', 'customer', 'quote_id', \n",
    "                 'reference_no', 'biller_id', 'biller', 'warehouse_id', 'order_discount', 'product_tax', \n",
    "                 'order_tax_id', 'order_tax', 'total_tax', 'shipping', 'pos', 'surcharge', 'api', 'shop', 'hash', \n",
    "                 'created_by', 'sale_status', 'payment_status', 'return_sale_total', 'total_items']\n",
    "\n",
    "df_sales = clean_data(dropped_sales, df_sales, ['total'])\n",
    "df_sales = df_sales.rename(columns={'id': 'sale_id'})\n",
    "df_sales = df_sales.loc[(df_sales['date'] >= '2017-02-31')]"
   ]
  },
  {
   "cell_type": "code",
   "execution_count": null,
   "metadata": {},
   "outputs": [],
   "source": [
    "dropped_saleitems = ['serial_no', 'sale_item_id', 'comment', 'id', 'product_type', 'option_id', 'unit_price', \n",
    "                     'net_unit_price', 'warehouse_id', 'item_tax', 'tax_rate_id', 'tax', 'product_unit_id', \n",
    "                     'product_unit_code', 'unit_quantity']\n",
    "\n",
    "df_sale_items = clean_data(dropped_saleitems, df_sale_items, ['quantity', 'item_discount', 'real_unit_price', 'subtotal'])"
   ]
  },
  {
   "cell_type": "code",
   "execution_count": null,
   "metadata": {},
   "outputs": [],
   "source": []
  }
 ],
 "metadata": {
  "kernelspec": {
   "display_name": "Python 3",
   "language": "python",
   "name": "python3"
  },
  "language_info": {
   "codemirror_mode": {
    "name": "ipython",
    "version": 3
   },
   "file_extension": ".py",
   "mimetype": "text/x-python",
   "name": "python",
   "nbconvert_exporter": "python",
   "pygments_lexer": "ipython3",
   "version": "3.8.3"
  }
 },
 "nbformat": 4,
 "nbformat_minor": 4
}
