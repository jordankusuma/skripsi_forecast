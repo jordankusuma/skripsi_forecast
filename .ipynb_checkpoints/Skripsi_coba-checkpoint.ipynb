{
 "cells": [
  {
   "cell_type": "markdown",
   "metadata": {},
   "source": [
    "#  Introduction\n",
    "\n",
    "## Problem Statement\n",
    "*  there is a change in trend that occurs due to uncertain conditions causing excessive stock of goods, so sometimes goods that have been purchased cannot be resold because the product has been piling up too long in the inventory.\n",
    "\n",
    "*  determining the storage of stock goods by analyzing using sales data for the previous month / year because the data in the previous month usually has an impact on future sales, while sales that occur do not always follow the previous month's data \n",
    "\n",
    "## Data Provided\n",
    "The Data that is used in this project are\n",
    "*     **sale_items.csv** - Contains the details of historical daily sales of a customer\n",
    "*     **sales.csv** - Contains the historical daily sales of a customer\n",
    "*     **sma_categories.csv** - Contains info about category of products\n",
    "*     **sma_companies.csv** - Contains information about the customer of company X\n",
    "*     **sma_products.csv** - Contains list of products that is sold in the companies\n",
    "We will have a sneak peak into the dataset below "
   ]
  },
  {
   "cell_type": "markdown",
   "metadata": {},
   "source": [
    "# Content:\n",
    "1. Data Preprocessing\n",
    "     - Read the dataset\n",
    "     - Drop null value and several columns\n",
    "     - Merge all data\n",
    "2. Exploratory Data Analysis\n",
    "3. Search correlation between data\n",
    "4. Implement model\n",
    "     - use only data sales \n",
    "     - use with data external such as IHK, Inflasi, IHP\n",
    "5. Use specific data for trend product\n",
    "6. Use Time lag in analysis"
   ]
  },
  {
   "cell_type": "code",
   "execution_count": 1,
   "metadata": {},
   "outputs": [
    {
     "data": {
      "text/html": [
       "        <script type=\"text/javascript\">\n",
       "        window.PlotlyConfig = {MathJaxConfig: 'local'};\n",
       "        if (window.MathJax) {MathJax.Hub.Config({SVG: {font: \"STIX-Web\"}});}\n",
       "        if (typeof require !== 'undefined') {\n",
       "        require.undef(\"plotly\");\n",
       "        requirejs.config({\n",
       "            paths: {\n",
       "                'plotly': ['https://cdn.plot.ly/plotly-latest.min']\n",
       "            }\n",
       "        });\n",
       "        require(['plotly'], function(Plotly) {\n",
       "            window._Plotly = Plotly;\n",
       "        });\n",
       "        }\n",
       "        </script>\n",
       "        "
      ]
     },
     "metadata": {},
     "output_type": "display_data"
    },
    {
     "data": {
      "text/html": [
       "        <script type=\"text/javascript\">\n",
       "        window.PlotlyConfig = {MathJaxConfig: 'local'};\n",
       "        if (window.MathJax) {MathJax.Hub.Config({SVG: {font: \"STIX-Web\"}});}\n",
       "        if (typeof require !== 'undefined') {\n",
       "        require.undef(\"plotly\");\n",
       "        requirejs.config({\n",
       "            paths: {\n",
       "                'plotly': ['https://cdn.plot.ly/plotly-latest.min']\n",
       "            }\n",
       "        });\n",
       "        require(['plotly'], function(Plotly) {\n",
       "            window._Plotly = Plotly;\n",
       "        });\n",
       "        }\n",
       "        </script>\n",
       "        "
      ]
     },
     "metadata": {},
     "output_type": "display_data"
    },
    {
     "data": {
      "text/html": [
       "        <script type=\"text/javascript\">\n",
       "        window.PlotlyConfig = {MathJaxConfig: 'local'};\n",
       "        if (window.MathJax) {MathJax.Hub.Config({SVG: {font: \"STIX-Web\"}});}\n",
       "        if (typeof require !== 'undefined') {\n",
       "        require.undef(\"plotly\");\n",
       "        requirejs.config({\n",
       "            paths: {\n",
       "                'plotly': ['https://cdn.plot.ly/plotly-latest.min']\n",
       "            }\n",
       "        });\n",
       "        require(['plotly'], function(Plotly) {\n",
       "            window._Plotly = Plotly;\n",
       "        });\n",
       "        }\n",
       "        </script>\n",
       "        "
      ]
     },
     "metadata": {},
     "output_type": "display_data"
    }
   ],
   "source": [
    "#load library\n",
    "import numpy as np # linear algebra\n",
    "import pandas as pd # data processing, CSV file I/O (e.g. pd.read_csv)\n",
    "\n",
    "import os #using operating system dependent functionality\n",
    "from datetime import datetime#datetime module supplies classes for manipulating dates and times.\n",
    "import math # provides access to the mathematical functions\n",
    "from IPython.display import display, HTML\n",
    "\n",
    "#For Plotting\n",
    "# Using plotly + cufflinks in offline mode\n",
    "import plotly as py\n",
    "import plotly.graph_objs as go\n",
    "import plotly\n",
    "from plotly.offline import download_plotlyjs, init_notebook_mode, plot, iplot\n",
    "import cufflinks as cf\n",
    "cf.set_config_file(offline=True)\n",
    "init_notebook_mode(connected=True)\n",
    "\n",
    "import matplotlib\n",
    "import matplotlib.pyplot as plt\n",
    "import seaborn as sns\n",
    "\n",
    "import matplotlib.pylab\n",
    "from matplotlib.pylab import rcParams\n",
    "rcParams['figure.figsize'] = 12, 6\n",
    "\n",
    "#For time series decomposition\n",
    "from matplotlib import pyplot\n",
    "from statsmodels.tsa.seasonal import seasonal_decompose\n",
    "\n",
    "from datetime import timedelta\n",
    "\n",
    "from tensorflow.keras.models import Sequential\n",
    "from tensorflow.keras.layers import Dense\n",
    "from tensorflow.keras.layers import LSTM, GRU\n",
    "import tensorflow as tf\n",
    "import keras\n",
    "from tensorflow.keras import layers\n",
    "\n",
    "import math\n",
    "from sklearn.metrics import mean_squared_error"
   ]
  },
  {
   "cell_type": "markdown",
   "metadata": {},
   "source": [
    "# 1. Data Preprocessing"
   ]
  },
  {
   "cell_type": "markdown",
   "metadata": {},
   "source": [
    "## 1.1 Read Dataset"
   ]
  },
  {
   "cell_type": "code",
   "execution_count": 2,
   "metadata": {},
   "outputs": [
    {
     "name": "stderr",
     "output_type": "stream",
     "text": [
      "C:\\Users\\USER\\anaconda3\\lib\\site-packages\\IPython\\core\\interactiveshell.py:3071: DtypeWarning:\n",
      "\n",
      "Columns (10) have mixed types.Specify dtype option on import or set low_memory=False.\n",
      "\n",
      "C:\\Users\\USER\\anaconda3\\lib\\site-packages\\IPython\\core\\interactiveshell.py:3071: DtypeWarning:\n",
      "\n",
      "Columns (14) have mixed types.Specify dtype option on import or set low_memory=False.\n",
      "\n"
     ]
    }
   ],
   "source": [
    "#read dataset\n",
    "df_sales = pd.read_csv('proyek_skripsi/sales.csv')\n",
    "df_sale_items = pd.read_csv('proyek_skripsi/sale_items.csv')\n",
    "df_products = pd.read_csv('proyek_skripsi/sma_products.csv')\n",
    "df_category = pd.read_csv('proyek_skripsi/sma_categories.csv')\n",
    "df_companies = pd.read_csv('proyek_skripsi/sma_companies.csv')\n",
    "df_ihk_inflasi = pd.read_csv(\"proyek_skripsi/Data_IHK_Inflasi_Nasional.csv\")\n",
    "df_ihp = pd.read_csv(\"proyek_skripsi/DataIHPKhususPlastikKaret.csv\")"
   ]
  },
  {
   "cell_type": "markdown",
   "metadata": {},
   "source": [
    "## 1.2 Clean Dataset"
   ]
  },
  {
   "cell_type": "code",
   "execution_count": 3,
   "metadata": {},
   "outputs": [],
   "source": [
    "def clean_data(dropped_column, df, negative_column = []):\n",
    "    df = df.drop(dropped_column, axis=1)\n",
    "    df = df[(df[negative_column] >= 0).all(1)]\n",
    "    #df = df.fillna(0)\n",
    "    df = df.dropna()\n",
    "    return df\n",
    "\n",
    "def bar_plot(xlabel, ylabel, title, x1, y1, rotate):\n",
    "    plt.bar(x1, y1, width = 0.4)\n",
    "    plt.xlabel(xlabel)\n",
    "    plt.ylabel(ylabel)\n",
    "    plt.tight_layout()\n",
    "    plt.title(title,fontweight = \"bold\")\n",
    "    plt.ticklabel_format(style='plain', axis='y')\n",
    "    plt.gcf().autofmt_xdate(rotation=rotate)\n",
    "    plt.show()"
   ]
  },
  {
   "cell_type": "code",
   "execution_count": 4,
   "metadata": {},
   "outputs": [
    {
     "name": "stdout",
     "output_type": "stream",
     "text": [
      "<class 'pandas.core.frame.DataFrame'>\n",
      "Int64Index: 17392 entries, 0 to 17496\n",
      "Data columns (total 4 columns):\n",
      " #   Column       Non-Null Count  Dtype  \n",
      "---  ------       --------------  -----  \n",
      " 0   sale_id      17392 non-null  int64  \n",
      " 1   date         17392 non-null  object \n",
      " 2   customer_id  17392 non-null  int64  \n",
      " 3   total        17392 non-null  float64\n",
      "dtypes: float64(1), int64(2), object(1)\n",
      "memory usage: 679.4+ KB\n"
     ]
    }
   ],
   "source": [
    "dropped_sales = ['note', 'staff_note', 'order_discount_id', 'updated_by', 'updated_at', 'return_id', \n",
    "                 'attachment', 'return_sale_ref', 'sale_id', 'rounding', 'suspend_note', 'address_id', \n",
    "                 'reserve_id', 'salesman_id', 'salesman_commission', 'total_commission', 'product_discount', \n",
    "                 'total_discount', 'grand_total', 'payment_term', 'due_date', 'paid', 'customer', 'quote_id', \n",
    "                 'reference_no', 'biller_id', 'biller', 'warehouse_id', 'order_discount', 'product_tax', \n",
    "                 'order_tax_id', 'order_tax', 'total_tax', 'shipping', 'pos', 'surcharge', 'api', 'shop', 'hash', \n",
    "                 'created_by', 'sale_status', 'payment_status', 'return_sale_total', 'total_items']\n",
    "\n",
    "df_sales = clean_data(dropped_sales, df_sales, ['total'])\n",
    "df_sales = df_sales.rename(columns={'id': 'sale_id'})\n",
    "df_sales = df_sales.loc[(df_sales['date'] >= '2017-02-31')]\n",
    "df_sales.info()"
   ]
  },
  {
   "cell_type": "code",
   "execution_count": 5,
   "metadata": {},
   "outputs": [
    {
     "name": "stdout",
     "output_type": "stream",
     "text": [
      "<class 'pandas.core.frame.DataFrame'>\n",
      "Int64Index: 52393 entries, 5 to 52594\n",
      "Data columns (total 9 columns):\n",
      " #   Column           Non-Null Count  Dtype  \n",
      "---  ------           --------------  -----  \n",
      " 0   sale_id          52393 non-null  int64  \n",
      " 1   product_id       52393 non-null  int64  \n",
      " 2   product_code     52393 non-null  object \n",
      " 3   product_name     52393 non-null  object \n",
      " 4   quantity         52393 non-null  float64\n",
      " 5   discount         52393 non-null  object \n",
      " 6   item_discount    52393 non-null  float64\n",
      " 7   subtotal         52393 non-null  float64\n",
      " 8   real_unit_price  52393 non-null  float64\n",
      "dtypes: float64(4), int64(2), object(3)\n",
      "memory usage: 4.0+ MB\n"
     ]
    }
   ],
   "source": [
    "dropped_saleitems = ['serial_no', 'sale_item_id', 'comment', 'id', 'product_type', 'option_id', 'unit_price', \n",
    "                     'net_unit_price', 'warehouse_id', 'item_tax', 'tax_rate_id', 'tax', 'product_unit_id', \n",
    "                     'product_unit_code', 'unit_quantity']\n",
    "\n",
    "df_sale_items = clean_data(dropped_saleitems, df_sale_items, ['quantity', 'item_discount', 'real_unit_price', 'subtotal'])\n",
    "df_sale_items.info()"
   ]
  },
  {
   "cell_type": "code",
   "execution_count": 6,
   "metadata": {},
   "outputs": [
    {
     "name": "stdout",
     "output_type": "stream",
     "text": [
      "<class 'pandas.core.frame.DataFrame'>\n",
      "Int64Index: 5746 entries, 0 to 5745\n",
      "Data columns (total 3 columns):\n",
      " #   Column       Non-Null Count  Dtype  \n",
      "---  ------       --------------  -----  \n",
      " 0   product_id   5746 non-null   int64  \n",
      " 1   cost         5746 non-null   float64\n",
      " 2   category_id  5746 non-null   int64  \n",
      "dtypes: float64(1), int64(2)\n",
      "memory usage: 179.6 KB\n"
     ]
    }
   ],
   "source": [
    "dropped_product = ['code', 'name', 'unit', 'product_price', 'alert_quantity', 'image', 'subcategory_id', 'cf1', 'cf2', 'cf3', 'cf4',\n",
    "       'cf5', 'cf6', 'quantity', 'tax_rate', 'track_quantity', 'details',\n",
    "       'warehouse', 'barcode_symbology', 'file', 'product_details',\n",
    "       'tax_method', 'type', 'supplier1', 'supplier1price', 'supplier2',\n",
    "       'supplier2price', 'supplier3', 'supplier3price', 'supplier4',\n",
    "       'supplier4price', 'supplier5', 'supplier5price', 'promotion',\n",
    "       'promo_price', 'start_date', 'end_date', 'supplier1_part_no',\n",
    "       'supplier2_part_no', 'supplier3_part_no', 'supplier4_part_no',\n",
    "       'supplier5_part_no', 'sale_unit', 'purchase_unit', 'brand', 'slug',\n",
    "       'featured', 'weight']\n",
    "\n",
    "df_products = clean_data(dropped_product, df_products)\n",
    "df_products = df_products.rename(columns={'id': 'product_id'})\n",
    "df_products.info()"
   ]
  },
  {
   "cell_type": "code",
   "execution_count": 7,
   "metadata": {},
   "outputs": [
    {
     "name": "stdout",
     "output_type": "stream",
     "text": [
      "<class 'pandas.core.frame.DataFrame'>\n",
      "Int64Index: 40 entries, 0 to 39\n",
      "Data columns (total 3 columns):\n",
      " #   Column         Non-Null Count  Dtype \n",
      "---  ------         --------------  ----- \n",
      " 0   category_id    40 non-null     int64 \n",
      " 1   category_code  40 non-null     object\n",
      " 2   category_name  40 non-null     object\n",
      "dtypes: int64(1), object(2)\n",
      "memory usage: 1.2+ KB\n"
     ]
    }
   ],
   "source": [
    "dropped_category = ['image', 'parent_id', 'slug']\n",
    "\n",
    "df_category = clean_data(dropped_category, df_category)\n",
    "df_category = df_category.rename(columns={'id': 'category_id', 'code': 'category_code', 'name': 'category_name'})\n",
    "#df_category = df_category['category_name'].to_string(na_rep='').lower()\n",
    "df_category = df_category.applymap(lambda s:s.lower() if type(s) == str else s)\n",
    "df_category.category_name = [c.replace(' ', '_') for c in df_category.category_name]\n",
    "df_category.info()"
   ]
  },
  {
   "cell_type": "code",
   "execution_count": 8,
   "metadata": {},
   "outputs": [
    {
     "name": "stdout",
     "output_type": "stream",
     "text": [
      "<class 'pandas.core.frame.DataFrame'>\n",
      "Int64Index: 441 entries, 0 to 454\n",
      "Data columns (total 3 columns):\n",
      " #   Column       Non-Null Count  Dtype \n",
      "---  ------       --------------  ----- \n",
      " 0   customer_id  441 non-null    int64 \n",
      " 1   company      441 non-null    object\n",
      " 2   city         441 non-null    object\n",
      "dtypes: int64(1), object(2)\n",
      "memory usage: 13.8+ KB\n"
     ]
    }
   ],
   "source": [
    "dropped_companies = ['group_id', 'vat_no', 'group_name', 'customer_group_id',\n",
    "       'customer_group_name', 'name', 'address', 'state', 'postal_code', 'country', 'phone', 'email', 'cf1', 'cf2',\n",
    "       'cf3', 'cf4', 'cf5', 'cf6', 'invoice_footer', 'payment_term', 'logo',\n",
    "       'award_points', 'deposit_amount', 'price_group_id', 'price_group_name',\n",
    "       'email_footer']\n",
    "\n",
    "df_companies = clean_data(dropped_companies, df_companies)\n",
    "df_companies = df_companies.rename(columns={'id': 'customer_id'})\n",
    "df_companies = df_companies[~df_companies.city.str.contains(\"-\")]\n",
    "df_companies.info()"
   ]
  },
  {
   "cell_type": "markdown",
   "metadata": {},
   "source": [
    "### make variant of location into one location"
   ]
  },
  {
   "cell_type": "code",
   "execution_count": 9,
   "metadata": {
    "scrolled": true
   },
   "outputs": [
    {
     "name": "stderr",
     "output_type": "stream",
     "text": [
      "C:\\Users\\USER\\anaconda3\\lib\\site-packages\\pandas\\core\\strings.py:1954: UserWarning:\n",
      "\n",
      "This pattern has match groups. To actually get the groups, use str.extract.\n",
      "\n"
     ]
    },
    {
     "data": {
      "text/plain": [
       "JAWA             201\n",
       "SULAWESI         126\n",
       "KALIMANTAN        67\n",
       "PAPUA             33\n",
       "NUSA TENGGARA     13\n",
       "SUMATRA            1\n",
       "Name: city, dtype: int64"
      ]
     },
     "execution_count": 9,
     "metadata": {},
     "output_type": "execute_result"
    }
   ],
   "source": [
    "#change list into Jawa\n",
    "list_jawa = ['JAWA TIMUR', 'BALI', 'SURABAYA', 'MADURA', 'JAWA TENGAH', 'JAKARTA', 'DENPASAR', 'JAWA TINUR', 'SBY', 'PARE-KEDIRI, JATIM', 'BAU BAU', 'BONDOWOSO', \n",
    "    'GRESIK', 'TULUNGAGUNG, JAWA TIMUR', 'LOMBOK', 'JAWA TENGGAH', 'BLITAR, JAWA TIMUR',\n",
    "    'JOGJA', '( PERUM DARMO SENTOSA RAYA) ,SURABAYA', 'JAKARTA BARAT', 'BLORA, JAWA TENGAH'\n",
    "    'PASURUAN, JAWA TIMUR', 'BOJONEGORO', 'JAWA BARAT', 'GENTENG', 'CEPU', 'KEDIRI, JAWA TIMUR', 'SURABAYA, JATIM', 'MALANG']\n",
    "\n",
    "for i in list_jawa:\n",
    "    df_companies.loc[df_companies['city'].str.contains(i), 'city'] = 'JAWA'\n",
    "\n",
    "    \n",
    "#change list into sulawesi\n",
    "list_sulawesi = [\"BANGGAI, SULAWESI\", \"SLAWESI\", \"WAKATOBI, SULAWESI\", \"MAKASAR\"]\n",
    "\n",
    "for i in list_sulawesi:\n",
    "    df_companies.loc[df_companies['city'].str.contains(i), 'city'] = 'SULAWESI'\n",
    "\n",
    "    \n",
    "#change list into papua\n",
    "list_papua = [\"JAYAPURA\", \"MERAUKE\"]\n",
    "\n",
    "for i in list_papua:\n",
    "    df_companies.loc[df_companies['city'].str.contains(i), 'city'] = 'PAPUA'\n",
    "\n",
    "\n",
    "#change list into kalimantan\n",
    "df_companies.loc[df_companies['city'].str.contains(\" KALIMANTAN\"), 'city'] = 'KALIMANTAN'\n",
    "\n",
    "\n",
    "#change list into nusa tenggara\n",
    "list_nusatenggara = [\"NTT\", \"NTB\"]\n",
    "\n",
    "for i in list_nusatenggara:\n",
    "    df_companies.loc[df_companies['city'].str.contains(i), 'city'] = 'NUSA TENGGARA'\n",
    "\n",
    "\n",
    "df_companies['city'].value_counts()"
   ]
  },
  {
   "cell_type": "markdown",
   "metadata": {},
   "source": [
    "## 1.3 merge all data"
   ]
  },
  {
   "cell_type": "code",
   "execution_count": 10,
   "metadata": {},
   "outputs": [],
   "source": [
    "df_sales_saleitems = pd.merge(df_sales, df_sale_items, on='sale_id', how='inner')\n",
    "df_sales_items_product = pd.merge(df_sales_saleitems, df_products, on='product_id', how='outer')\n",
    "df_sales_prod_category = pd.merge(df_sales_items_product, df_category, on='category_id', how='outer')\n",
    "df_result = pd.merge(df_sales_prod_category, df_companies, on='customer_id', how='outer')"
   ]
  },
  {
   "cell_type": "code",
   "execution_count": 11,
   "metadata": {},
   "outputs": [
    {
     "name": "stdout",
     "output_type": "stream",
     "text": [
      "<class 'pandas.core.frame.DataFrame'>\n",
      "Int64Index: 51598 entries, 0 to 52780\n",
      "Data columns (total 18 columns):\n",
      " #   Column           Non-Null Count  Dtype  \n",
      "---  ------           --------------  -----  \n",
      " 0   sale_id          51598 non-null  float64\n",
      " 1   date             51598 non-null  object \n",
      " 2   customer_id      51598 non-null  float64\n",
      " 3   total            51598 non-null  float64\n",
      " 4   product_id       51598 non-null  float64\n",
      " 5   product_code     51598 non-null  object \n",
      " 6   product_name     51598 non-null  object \n",
      " 7   quantity         51598 non-null  float64\n",
      " 8   discount         51598 non-null  object \n",
      " 9   item_discount    51598 non-null  float64\n",
      " 10  subtotal         51598 non-null  float64\n",
      " 11  real_unit_price  51598 non-null  float64\n",
      " 12  cost             51598 non-null  float64\n",
      " 13  category_id      51598 non-null  float64\n",
      " 14  category_code    51598 non-null  object \n",
      " 15  category_name    51598 non-null  object \n",
      " 16  company          51598 non-null  object \n",
      " 17  city             51598 non-null  object \n",
      "dtypes: float64(10), object(8)\n",
      "memory usage: 7.5+ MB\n"
     ]
    }
   ],
   "source": [
    "df_result = df_result.dropna()\n",
    "df_result.info()"
   ]
  },
  {
   "cell_type": "code",
   "execution_count": 12,
   "metadata": {},
   "outputs": [
    {
     "data": {
      "text/html": [
       "<div>\n",
       "<style scoped>\n",
       "    .dataframe tbody tr th:only-of-type {\n",
       "        vertical-align: middle;\n",
       "    }\n",
       "\n",
       "    .dataframe tbody tr th {\n",
       "        vertical-align: top;\n",
       "    }\n",
       "\n",
       "    .dataframe thead th {\n",
       "        text-align: right;\n",
       "    }\n",
       "</style>\n",
       "<table border=\"1\" class=\"dataframe\">\n",
       "  <thead>\n",
       "    <tr style=\"text-align: right;\">\n",
       "      <th></th>\n",
       "      <th>sale_id</th>\n",
       "      <th>date</th>\n",
       "      <th>customer_id</th>\n",
       "      <th>total</th>\n",
       "      <th>product_id</th>\n",
       "      <th>product_code</th>\n",
       "      <th>product_name</th>\n",
       "      <th>quantity</th>\n",
       "      <th>discount</th>\n",
       "      <th>item_discount</th>\n",
       "      <th>subtotal</th>\n",
       "      <th>real_unit_price</th>\n",
       "      <th>cost</th>\n",
       "      <th>category_id</th>\n",
       "      <th>category_code</th>\n",
       "      <th>category_name</th>\n",
       "      <th>company</th>\n",
       "      <th>city</th>\n",
       "    </tr>\n",
       "  </thead>\n",
       "  <tbody>\n",
       "    <tr>\n",
       "      <th>0</th>\n",
       "      <td>22.0</td>\n",
       "      <td>2017-07-15 13:35:00</td>\n",
       "      <td>127.0</td>\n",
       "      <td>2000000.0</td>\n",
       "      <td>438.0</td>\n",
       "      <td>ABE-003</td>\n",
       "      <td>ESKAN MINI KARINA</td>\n",
       "      <td>40.0</td>\n",
       "      <td>0</td>\n",
       "      <td>0.0</td>\n",
       "      <td>2000000.0</td>\n",
       "      <td>50000.0</td>\n",
       "      <td>49200.0</td>\n",
       "      <td>2.0</td>\n",
       "      <td>eskan</td>\n",
       "      <td>eskan</td>\n",
       "      <td>DAMAI SANTOSO</td>\n",
       "      <td>JAWA</td>\n",
       "    </tr>\n",
       "    <tr>\n",
       "      <th>1</th>\n",
       "      <td>421.0</td>\n",
       "      <td>2017-08-30 15:27:38</td>\n",
       "      <td>127.0</td>\n",
       "      <td>7364400.0</td>\n",
       "      <td>438.0</td>\n",
       "      <td>ABE-003</td>\n",
       "      <td>ESKAN MINI KARINA</td>\n",
       "      <td>40.0</td>\n",
       "      <td>0</td>\n",
       "      <td>0.0</td>\n",
       "      <td>2000000.0</td>\n",
       "      <td>50000.0</td>\n",
       "      <td>49200.0</td>\n",
       "      <td>2.0</td>\n",
       "      <td>eskan</td>\n",
       "      <td>eskan</td>\n",
       "      <td>DAMAI SANTOSO</td>\n",
       "      <td>JAWA</td>\n",
       "    </tr>\n",
       "    <tr>\n",
       "      <th>2</th>\n",
       "      <td>639.0</td>\n",
       "      <td>2017-10-03 11:34:54</td>\n",
       "      <td>127.0</td>\n",
       "      <td>1600000.0</td>\n",
       "      <td>438.0</td>\n",
       "      <td>ABE-003</td>\n",
       "      <td>ESKAN MINI KARINA</td>\n",
       "      <td>32.0</td>\n",
       "      <td>0</td>\n",
       "      <td>0.0</td>\n",
       "      <td>1600000.0</td>\n",
       "      <td>50000.0</td>\n",
       "      <td>49200.0</td>\n",
       "      <td>2.0</td>\n",
       "      <td>eskan</td>\n",
       "      <td>eskan</td>\n",
       "      <td>DAMAI SANTOSO</td>\n",
       "      <td>JAWA</td>\n",
       "    </tr>\n",
       "    <tr>\n",
       "      <th>3</th>\n",
       "      <td>921.0</td>\n",
       "      <td>2017-11-14 14:27:00</td>\n",
       "      <td>127.0</td>\n",
       "      <td>2000000.0</td>\n",
       "      <td>438.0</td>\n",
       "      <td>ABE-003</td>\n",
       "      <td>ESKAN MINI KARINA</td>\n",
       "      <td>40.0</td>\n",
       "      <td>0</td>\n",
       "      <td>0.0</td>\n",
       "      <td>2000000.0</td>\n",
       "      <td>50000.0</td>\n",
       "      <td>49200.0</td>\n",
       "      <td>2.0</td>\n",
       "      <td>eskan</td>\n",
       "      <td>eskan</td>\n",
       "      <td>DAMAI SANTOSO</td>\n",
       "      <td>JAWA</td>\n",
       "    </tr>\n",
       "    <tr>\n",
       "      <th>4</th>\n",
       "      <td>1043.0</td>\n",
       "      <td>2017-11-28 14:38:00</td>\n",
       "      <td>127.0</td>\n",
       "      <td>2680000.0</td>\n",
       "      <td>438.0</td>\n",
       "      <td>ABE-003</td>\n",
       "      <td>ESKAN MINI KARINA</td>\n",
       "      <td>8.0</td>\n",
       "      <td>0</td>\n",
       "      <td>0.0</td>\n",
       "      <td>400000.0</td>\n",
       "      <td>50000.0</td>\n",
       "      <td>49200.0</td>\n",
       "      <td>2.0</td>\n",
       "      <td>eskan</td>\n",
       "      <td>eskan</td>\n",
       "      <td>DAMAI SANTOSO</td>\n",
       "      <td>JAWA</td>\n",
       "    </tr>\n",
       "  </tbody>\n",
       "</table>\n",
       "</div>"
      ],
      "text/plain": [
       "   sale_id                 date  customer_id      total  product_id  \\\n",
       "0     22.0  2017-07-15 13:35:00        127.0  2000000.0       438.0   \n",
       "1    421.0  2017-08-30 15:27:38        127.0  7364400.0       438.0   \n",
       "2    639.0  2017-10-03 11:34:54        127.0  1600000.0       438.0   \n",
       "3    921.0  2017-11-14 14:27:00        127.0  2000000.0       438.0   \n",
       "4   1043.0  2017-11-28 14:38:00        127.0  2680000.0       438.0   \n",
       "\n",
       "  product_code       product_name  quantity discount  item_discount  \\\n",
       "0      ABE-003  ESKAN MINI KARINA      40.0        0            0.0   \n",
       "1      ABE-003  ESKAN MINI KARINA      40.0        0            0.0   \n",
       "2      ABE-003  ESKAN MINI KARINA      32.0        0            0.0   \n",
       "3      ABE-003  ESKAN MINI KARINA      40.0        0            0.0   \n",
       "4      ABE-003  ESKAN MINI KARINA       8.0        0            0.0   \n",
       "\n",
       "    subtotal  real_unit_price     cost  category_id category_code  \\\n",
       "0  2000000.0          50000.0  49200.0          2.0         eskan   \n",
       "1  2000000.0          50000.0  49200.0          2.0         eskan   \n",
       "2  1600000.0          50000.0  49200.0          2.0         eskan   \n",
       "3  2000000.0          50000.0  49200.0          2.0         eskan   \n",
       "4   400000.0          50000.0  49200.0          2.0         eskan   \n",
       "\n",
       "  category_name        company  city  \n",
       "0         eskan  DAMAI SANTOSO  JAWA  \n",
       "1         eskan  DAMAI SANTOSO  JAWA  \n",
       "2         eskan  DAMAI SANTOSO  JAWA  \n",
       "3         eskan  DAMAI SANTOSO  JAWA  \n",
       "4         eskan  DAMAI SANTOSO  JAWA  "
      ]
     },
     "execution_count": 12,
     "metadata": {},
     "output_type": "execute_result"
    }
   ],
   "source": [
    "df_result.head()"
   ]
  },
  {
   "cell_type": "markdown",
   "metadata": {},
   "source": [
    "# 2. Exploratory Data Analysis"
   ]
  },
  {
   "cell_type": "markdown",
   "metadata": {},
   "source": [
    "- total quantity each province\n",
    "- total quantity each product categories\n",
    "- trend and seasonal for dataset\n",
    "- trend and seasonal for data external"
   ]
  },
  {
   "cell_type": "markdown",
   "metadata": {},
   "source": [
    "## 2.1 Total Quantity for each province"
   ]
  },
  {
   "cell_type": "code",
   "execution_count": 13,
   "metadata": {},
   "outputs": [
    {
     "name": "stdout",
     "output_type": "stream",
     "text": [
      "JAWA             20471\n",
      "SULAWESI         14992\n",
      "KALIMANTAN       10601\n",
      "PAPUA             5191\n",
      "NUSA TENGGARA      341\n",
      "SUMATRA              2\n",
      "Name: city, dtype: int64\n"
     ]
    },
    {
     "data": {
      "text/plain": [
       "JAWA             0.396740\n",
       "SULAWESI         0.290554\n",
       "KALIMANTAN       0.205454\n",
       "PAPUA            0.100605\n",
       "NUSA TENGGARA    0.006609\n",
       "SUMATRA          0.000039\n",
       "Name: city, dtype: float64"
      ]
     },
     "execution_count": 13,
     "metadata": {},
     "output_type": "execute_result"
    }
   ],
   "source": [
    "#quantity of province\n",
    "print(df_result.city.value_counts())\n",
    "df_result.city.value_counts(normalize =True) "
   ]
  },
  {
   "cell_type": "code",
   "execution_count": 14,
   "metadata": {},
   "outputs": [
    {
     "data": {
      "text/html": [
       "<div>\n",
       "<style scoped>\n",
       "    .dataframe tbody tr th:only-of-type {\n",
       "        vertical-align: middle;\n",
       "    }\n",
       "\n",
       "    .dataframe tbody tr th {\n",
       "        vertical-align: top;\n",
       "    }\n",
       "\n",
       "    .dataframe thead th {\n",
       "        text-align: right;\n",
       "    }\n",
       "</style>\n",
       "<table border=\"1\" class=\"dataframe\">\n",
       "  <thead>\n",
       "    <tr style=\"text-align: right;\">\n",
       "      <th></th>\n",
       "      <th>quantity</th>\n",
       "    </tr>\n",
       "    <tr>\n",
       "      <th>city</th>\n",
       "      <th></th>\n",
       "    </tr>\n",
       "  </thead>\n",
       "  <tbody>\n",
       "    <tr>\n",
       "      <th>SULAWESI</th>\n",
       "      <td>1199185.0</td>\n",
       "    </tr>\n",
       "    <tr>\n",
       "      <th>JAWA</th>\n",
       "      <td>829046.0</td>\n",
       "    </tr>\n",
       "    <tr>\n",
       "      <th>KALIMANTAN</th>\n",
       "      <td>792498.5</td>\n",
       "    </tr>\n",
       "    <tr>\n",
       "      <th>PAPUA</th>\n",
       "      <td>270544.5</td>\n",
       "    </tr>\n",
       "    <tr>\n",
       "      <th>NUSA TENGGARA</th>\n",
       "      <td>13157.0</td>\n",
       "    </tr>\n",
       "    <tr>\n",
       "      <th>SUMATRA</th>\n",
       "      <td>88.0</td>\n",
       "    </tr>\n",
       "  </tbody>\n",
       "</table>\n",
       "</div>"
      ],
      "text/plain": [
       "                quantity\n",
       "city                    \n",
       "SULAWESI       1199185.0\n",
       "JAWA            829046.0\n",
       "KALIMANTAN      792498.5\n",
       "PAPUA           270544.5\n",
       "NUSA TENGGARA    13157.0\n",
       "SUMATRA             88.0"
      ]
     },
     "execution_count": 14,
     "metadata": {},
     "output_type": "execute_result"
    }
   ],
   "source": [
    "city_data = df_result.groupby('city').agg({\"quantity\":\"sum\"})\n",
    "city_data.sort_values(by='quantity', ascending=False)"
   ]
  },
  {
   "cell_type": "code",
   "execution_count": 15,
   "metadata": {},
   "outputs": [
    {
     "data": {
      "image/png": "[encoded data removed]",
      "text/plain": [
       "<Figure size 864x432 with 1 Axes>"
      ]
     },
     "metadata": {
      "needs_background": "light"
     },
     "output_type": "display_data"
    }
   ],
   "source": [
    "#plot the barchart\n",
    "bar_plot(\"Cities\", \"total sales quantity\", \"total quantity based on city\", city_data.index, city_data['quantity'], 0)"
   ]
  },
  {
   "cell_type": "markdown",
   "metadata": {},
   "source": [
    "## 2.2 Total Quantity for each product categories"
   ]
  },
  {
   "cell_type": "code",
   "execution_count": 16,
   "metadata": {},
   "outputs": [
    {
     "name": "stdout",
     "output_type": "stream",
     "text": [
      "Total Quantity from each category\n"
     ]
    },
    {
     "data": {
      "text/html": [
       "<div>\n",
       "<style scoped>\n",
       "    .dataframe tbody tr th:only-of-type {\n",
       "        vertical-align: middle;\n",
       "    }\n",
       "\n",
       "    .dataframe tbody tr th {\n",
       "        vertical-align: top;\n",
       "    }\n",
       "\n",
       "    .dataframe thead th {\n",
       "        text-align: right;\n",
       "    }\n",
       "</style>\n",
       "<table border=\"1\" class=\"dataframe\">\n",
       "  <thead>\n",
       "    <tr style=\"text-align: right;\">\n",
       "      <th></th>\n",
       "      <th>quantity</th>\n",
       "    </tr>\n",
       "    <tr>\n",
       "      <th>category_name</th>\n",
       "      <th></th>\n",
       "    </tr>\n",
       "  </thead>\n",
       "  <tbody>\n",
       "    <tr>\n",
       "      <th>general</th>\n",
       "      <td>783497.5</td>\n",
       "    </tr>\n",
       "    <tr>\n",
       "      <th>sealware/toples</th>\n",
       "      <td>397111.5</td>\n",
       "    </tr>\n",
       "    <tr>\n",
       "      <th>peralatan makan</th>\n",
       "      <td>371442.5</td>\n",
       "    </tr>\n",
       "    <tr>\n",
       "      <th>peralatan dapur</th>\n",
       "      <td>252912.0</td>\n",
       "    </tr>\n",
       "    <tr>\n",
       "      <th>pot</th>\n",
       "      <td>199912.5</td>\n",
       "    </tr>\n",
       "    <tr>\n",
       "      <th>hanger</th>\n",
       "      <td>167665.0</td>\n",
       "    </tr>\n",
       "    <tr>\n",
       "      <th>tempat_penyimpanan_mkn</th>\n",
       "      <td>156635.0</td>\n",
       "    </tr>\n",
       "    <tr>\n",
       "      <th>bak/ember</th>\n",
       "      <td>133825.0</td>\n",
       "    </tr>\n",
       "    <tr>\n",
       "      <th>botol_air</th>\n",
       "      <td>93446.0</td>\n",
       "    </tr>\n",
       "    <tr>\n",
       "      <th>timba_cor</th>\n",
       "      <td>92980.0</td>\n",
       "    </tr>\n",
       "  </tbody>\n",
       "</table>\n",
       "</div>"
      ],
      "text/plain": [
       "                        quantity\n",
       "category_name                   \n",
       "general                 783497.5\n",
       "sealware/toples         397111.5\n",
       "peralatan makan         371442.5\n",
       "peralatan dapur         252912.0\n",
       "pot                     199912.5\n",
       "hanger                  167665.0\n",
       "tempat_penyimpanan_mkn  156635.0\n",
       "bak/ember               133825.0\n",
       "botol_air                93446.0\n",
       "timba_cor                92980.0"
      ]
     },
     "execution_count": 16,
     "metadata": {},
     "output_type": "execute_result"
    }
   ],
   "source": [
    "#Let's have a look at the total sales from each of the 3 categries\n",
    "print(\"Total Quantity from each category\")\n",
    "category_data = df_result.groupby('category_name').agg({\"quantity\":\"sum\"})\n",
    "category_data.sort_values(by='quantity', ascending=False).head(10)"
   ]
  },
  {
   "cell_type": "code",
   "execution_count": 17,
   "metadata": {},
   "outputs": [
    {
     "data": {
      "image/png": "[encoded data removed]",
      "text/plain": [
       "<Figure size 864x432 with 1 Axes>"
      ]
     },
     "metadata": {
      "needs_background": "light"
     },
     "output_type": "display_data"
    }
   ],
   "source": [
    "#plot the barchart\n",
    "bar_plot(\"Cities\", \"total sales quantity\", \"total quantity based on city\", category_data.index, category_data['quantity'], 90)"
   ]
  },
  {
   "cell_type": "markdown",
   "metadata": {},
   "source": [
    "## 2.3 Plot Total Quantity for Product Categories with Date (top 8)"
   ]
  },
  {
   "cell_type": "code",
   "execution_count": 18,
   "metadata": {},
   "outputs": [
    {
     "name": "stderr",
     "output_type": "stream",
     "text": [
      "<ipython-input-18-18b6288317b7>:4: FutureWarning:\n",
      "\n",
      "Indexing with multiple keys (implicitly converted to a tuple of keys) will be deprecated, use a list instead.\n",
      "\n"
     ]
    }
   ],
   "source": [
    "#sum of quantity, total and real unit price monthly grouped by category\n",
    "#####################################################\n",
    "df_result['date'] = pd.to_datetime(df_result['date'], errors='coerce')\n",
    "monthly_sales=df_result.groupby([df_result.date.dt.to_period(\"M\"),\"category_code\"])[\n",
    "    \"quantity\", \"total\", \"real_unit_price\"].agg({\"real_unit_price\":\"mean\",\"quantity\":\"sum\",\"total\":\"mean\"})\n",
    "monthly_sales.reset_index(level=[1], inplace=True)"
   ]
  },
  {
   "cell_type": "code",
   "execution_count": 19,
   "metadata": {},
   "outputs": [],
   "source": [
    "monthly_sales.interpolate(inplace = True)\n",
    "monthly_sales.index=monthly_sales.index.get_level_values('date').to_timestamp()\n",
    "monthly_sales.drop(['total', 'real_unit_price'], axis=1, inplace=True)"
   ]
  },
  {
   "cell_type": "code",
   "execution_count": 20,
   "metadata": {},
   "outputs": [
    {
     "data": {
      "text/html": [
       "<div>\n",
       "<style scoped>\n",
       "    .dataframe tbody tr th:only-of-type {\n",
       "        vertical-align: middle;\n",
       "    }\n",
       "\n",
       "    .dataframe tbody tr th {\n",
       "        vertical-align: top;\n",
       "    }\n",
       "\n",
       "    .dataframe thead th {\n",
       "        text-align: right;\n",
       "    }\n",
       "</style>\n",
       "<table border=\"1\" class=\"dataframe\">\n",
       "  <thead>\n",
       "    <tr style=\"text-align: right;\">\n",
       "      <th></th>\n",
       "      <th>category_code</th>\n",
       "      <th>quantity</th>\n",
       "    </tr>\n",
       "    <tr>\n",
       "      <th>date</th>\n",
       "      <th></th>\n",
       "      <th></th>\n",
       "    </tr>\n",
       "  </thead>\n",
       "  <tbody>\n",
       "    <tr>\n",
       "      <th>2017-07-01</th>\n",
       "      <td>bak/ember</td>\n",
       "      <td>1902.0</td>\n",
       "    </tr>\n",
       "    <tr>\n",
       "      <th>2017-07-01</th>\n",
       "      <td>bakusa</td>\n",
       "      <td>21.0</td>\n",
       "    </tr>\n",
       "    <tr>\n",
       "      <th>2017-07-01</th>\n",
       "      <td>bangku</td>\n",
       "      <td>258.5</td>\n",
       "    </tr>\n",
       "    <tr>\n",
       "      <th>2017-07-01</th>\n",
       "      <td>box</td>\n",
       "      <td>331.5</td>\n",
       "    </tr>\n",
       "    <tr>\n",
       "      <th>2017-07-01</th>\n",
       "      <td>bskm</td>\n",
       "      <td>75.0</td>\n",
       "    </tr>\n",
       "  </tbody>\n",
       "</table>\n",
       "</div>"
      ],
      "text/plain": [
       "           category_code  quantity\n",
       "date                              \n",
       "2017-07-01     bak/ember    1902.0\n",
       "2017-07-01        bakusa      21.0\n",
       "2017-07-01        bangku     258.5\n",
       "2017-07-01           box     331.5\n",
       "2017-07-01          bskm      75.0"
      ]
     },
     "execution_count": 20,
     "metadata": {},
     "output_type": "execute_result"
    }
   ],
   "source": [
    "monthly_sales.head()"
   ]
  },
  {
   "cell_type": "code",
   "execution_count": 21,
   "metadata": {},
   "outputs": [
    {
     "data": {
      "image/png": "[encoded data removed]",
      "text/plain": [
       "<Figure size 1440x1080 with 8 Axes>"
      ]
     },
     "metadata": {
      "needs_background": "light"
     },
     "output_type": "display_data"
    }
   ],
   "source": [
    "# define subplot grid\n",
    "top_category = ['general', 'sealware/toples', 'mkn', 'dpr', 'pot', 'hngr', 'tpm', 'bak/ember']\n",
    "\n",
    "fig, axs = plt.subplots(nrows=4, ncols=2, figsize=(20, 15))\n",
    "plt.subplots_adjust(hspace=0.5)\n",
    "fig.suptitle(\"Daily closing prices\", fontsize=18, y=0.95)\n",
    "\n",
    "# loop through tickers and axes\n",
    "for ticker, ax in zip(top_category, axs.ravel()):\n",
    "    # filter df for ticker and plot on specified axes\n",
    "    monthly_sales[monthly_sales[\"category_code\"] == ticker].plot(ax=ax)\n",
    "\n",
    "    # chart formatting\n",
    "    ax.set_title(ticker.upper())\n",
    "    ax.get_legend().remove()\n",
    "    ax.set_xlabel(\"\")\n",
    "    ax.ticklabel_format(style='plain', axis='y')\n",
    "\n",
    "plt.show()"
   ]
  },
  {
   "cell_type": "markdown",
   "metadata": {},
   "source": [
    "### See Decomposition of Dataset to see seasonality and trend"
   ]
  },
  {
   "cell_type": "code",
   "execution_count": 22,
   "metadata": {},
   "outputs": [
    {
     "data": {
      "text/html": [
       "<div>\n",
       "<style scoped>\n",
       "    .dataframe tbody tr th:only-of-type {\n",
       "        vertical-align: middle;\n",
       "    }\n",
       "\n",
       "    .dataframe tbody tr th {\n",
       "        vertical-align: top;\n",
       "    }\n",
       "\n",
       "    .dataframe thead th {\n",
       "        text-align: right;\n",
       "    }\n",
       "</style>\n",
       "<table border=\"1\" class=\"dataframe\">\n",
       "  <thead>\n",
       "    <tr style=\"text-align: right;\">\n",
       "      <th>category_code</th>\n",
       "      <th>bak</th>\n",
       "      <th>bak/ember</th>\n",
       "      <th>bakkp</th>\n",
       "      <th>bakusa</th>\n",
       "      <th>bangku</th>\n",
       "      <th>bkcp</th>\n",
       "      <th>bng</th>\n",
       "      <th>box</th>\n",
       "      <th>bskm</th>\n",
       "      <th>btlair</th>\n",
       "      <th>...</th>\n",
       "      <th>pot</th>\n",
       "      <th>rak</th>\n",
       "      <th>rksp</th>\n",
       "      <th>sealware/toples</th>\n",
       "      <th>sikat</th>\n",
       "      <th>tc</th>\n",
       "      <th>tempat sampah</th>\n",
       "      <th>tik</th>\n",
       "      <th>tkr</th>\n",
       "      <th>tpm</th>\n",
       "    </tr>\n",
       "    <tr>\n",
       "      <th>date</th>\n",
       "      <th></th>\n",
       "      <th></th>\n",
       "      <th></th>\n",
       "      <th></th>\n",
       "      <th></th>\n",
       "      <th></th>\n",
       "      <th></th>\n",
       "      <th></th>\n",
       "      <th></th>\n",
       "      <th></th>\n",
       "      <th></th>\n",
       "      <th></th>\n",
       "      <th></th>\n",
       "      <th></th>\n",
       "      <th></th>\n",
       "      <th></th>\n",
       "      <th></th>\n",
       "      <th></th>\n",
       "      <th></th>\n",
       "      <th></th>\n",
       "      <th></th>\n",
       "    </tr>\n",
       "  </thead>\n",
       "  <tbody>\n",
       "    <tr>\n",
       "      <th>2017-07-01</th>\n",
       "      <td>NaN</td>\n",
       "      <td>1902.0</td>\n",
       "      <td>NaN</td>\n",
       "      <td>21.0</td>\n",
       "      <td>258.5</td>\n",
       "      <td>NaN</td>\n",
       "      <td>NaN</td>\n",
       "      <td>331.5</td>\n",
       "      <td>75.0</td>\n",
       "      <td>2626.0</td>\n",
       "      <td>...</td>\n",
       "      <td>1398.5</td>\n",
       "      <td>36.0</td>\n",
       "      <td>535.0</td>\n",
       "      <td>2584.0</td>\n",
       "      <td>NaN</td>\n",
       "      <td>NaN</td>\n",
       "      <td>159.0</td>\n",
       "      <td>NaN</td>\n",
       "      <td>NaN</td>\n",
       "      <td>4644.0</td>\n",
       "    </tr>\n",
       "    <tr>\n",
       "      <th>2017-08-01</th>\n",
       "      <td>9.0</td>\n",
       "      <td>6036.0</td>\n",
       "      <td>NaN</td>\n",
       "      <td>345.0</td>\n",
       "      <td>526.5</td>\n",
       "      <td>489.0</td>\n",
       "      <td>NaN</td>\n",
       "      <td>406.0</td>\n",
       "      <td>111.0</td>\n",
       "      <td>1691.0</td>\n",
       "      <td>...</td>\n",
       "      <td>2382.5</td>\n",
       "      <td>136.0</td>\n",
       "      <td>298.0</td>\n",
       "      <td>3027.0</td>\n",
       "      <td>NaN</td>\n",
       "      <td>1500.0</td>\n",
       "      <td>304.5</td>\n",
       "      <td>NaN</td>\n",
       "      <td>NaN</td>\n",
       "      <td>3252.0</td>\n",
       "    </tr>\n",
       "    <tr>\n",
       "      <th>2017-09-01</th>\n",
       "      <td>NaN</td>\n",
       "      <td>4550.0</td>\n",
       "      <td>NaN</td>\n",
       "      <td>402.0</td>\n",
       "      <td>226.0</td>\n",
       "      <td>757.0</td>\n",
       "      <td>NaN</td>\n",
       "      <td>231.5</td>\n",
       "      <td>346.0</td>\n",
       "      <td>1231.0</td>\n",
       "      <td>...</td>\n",
       "      <td>1058.5</td>\n",
       "      <td>86.0</td>\n",
       "      <td>204.0</td>\n",
       "      <td>1245.0</td>\n",
       "      <td>NaN</td>\n",
       "      <td>NaN</td>\n",
       "      <td>101.0</td>\n",
       "      <td>NaN</td>\n",
       "      <td>NaN</td>\n",
       "      <td>2961.0</td>\n",
       "    </tr>\n",
       "    <tr>\n",
       "      <th>2017-10-01</th>\n",
       "      <td>87.0</td>\n",
       "      <td>4409.0</td>\n",
       "      <td>NaN</td>\n",
       "      <td>45.0</td>\n",
       "      <td>91.0</td>\n",
       "      <td>759.0</td>\n",
       "      <td>NaN</td>\n",
       "      <td>141.5</td>\n",
       "      <td>1643.0</td>\n",
       "      <td>1224.0</td>\n",
       "      <td>...</td>\n",
       "      <td>1654.0</td>\n",
       "      <td>54.0</td>\n",
       "      <td>432.0</td>\n",
       "      <td>3875.0</td>\n",
       "      <td>NaN</td>\n",
       "      <td>NaN</td>\n",
       "      <td>251.0</td>\n",
       "      <td>NaN</td>\n",
       "      <td>NaN</td>\n",
       "      <td>3126.0</td>\n",
       "    </tr>\n",
       "    <tr>\n",
       "      <th>2017-11-01</th>\n",
       "      <td>9.0</td>\n",
       "      <td>3133.0</td>\n",
       "      <td>NaN</td>\n",
       "      <td>3.0</td>\n",
       "      <td>141.0</td>\n",
       "      <td>1031.0</td>\n",
       "      <td>NaN</td>\n",
       "      <td>26.5</td>\n",
       "      <td>193.0</td>\n",
       "      <td>909.0</td>\n",
       "      <td>...</td>\n",
       "      <td>2457.0</td>\n",
       "      <td>54.0</td>\n",
       "      <td>224.0</td>\n",
       "      <td>9218.0</td>\n",
       "      <td>NaN</td>\n",
       "      <td>1450.0</td>\n",
       "      <td>71.0</td>\n",
       "      <td>NaN</td>\n",
       "      <td>NaN</td>\n",
       "      <td>4514.0</td>\n",
       "    </tr>\n",
       "  </tbody>\n",
       "</table>\n",
       "<p>5 rows × 35 columns</p>\n",
       "</div>"
      ],
      "text/plain": [
       "category_code   bak  bak/ember  bakkp  bakusa  bangku    bkcp  bng    box  \\\n",
       "date                                                                        \n",
       "2017-07-01      NaN     1902.0    NaN    21.0   258.5     NaN  NaN  331.5   \n",
       "2017-08-01      9.0     6036.0    NaN   345.0   526.5   489.0  NaN  406.0   \n",
       "2017-09-01      NaN     4550.0    NaN   402.0   226.0   757.0  NaN  231.5   \n",
       "2017-10-01     87.0     4409.0    NaN    45.0    91.0   759.0  NaN  141.5   \n",
       "2017-11-01      9.0     3133.0    NaN     3.0   141.0  1031.0  NaN   26.5   \n",
       "\n",
       "category_code    bskm  btlair  ...     pot    rak   rksp  sealware/toples  \\\n",
       "date                           ...                                          \n",
       "2017-07-01       75.0  2626.0  ...  1398.5   36.0  535.0           2584.0   \n",
       "2017-08-01      111.0  1691.0  ...  2382.5  136.0  298.0           3027.0   \n",
       "2017-09-01      346.0  1231.0  ...  1058.5   86.0  204.0           1245.0   \n",
       "2017-10-01     1643.0  1224.0  ...  1654.0   54.0  432.0           3875.0   \n",
       "2017-11-01      193.0   909.0  ...  2457.0   54.0  224.0           9218.0   \n",
       "\n",
       "category_code  sikat      tc  tempat sampah  tik  tkr     tpm  \n",
       "date                                                           \n",
       "2017-07-01       NaN     NaN          159.0  NaN  NaN  4644.0  \n",
       "2017-08-01       NaN  1500.0          304.5  NaN  NaN  3252.0  \n",
       "2017-09-01       NaN     NaN          101.0  NaN  NaN  2961.0  \n",
       "2017-10-01       NaN     NaN          251.0  NaN  NaN  3126.0  \n",
       "2017-11-01       NaN  1450.0           71.0  NaN  NaN  4514.0  \n",
       "\n",
       "[5 rows x 35 columns]"
      ]
     },
     "execution_count": 22,
     "metadata": {},
     "output_type": "execute_result"
    }
   ],
   "source": [
    "category_month_sales = monthly_sales.pivot(columns='category_code', values='quantity')\n",
    "category_month_sales.head()"
   ]
  },
  {
   "cell_type": "code",
   "execution_count": 23,
   "metadata": {},
   "outputs": [
    {
     "data": {
      "text/html": [
       "<div>\n",
       "<style scoped>\n",
       "    .dataframe tbody tr th:only-of-type {\n",
       "        vertical-align: middle;\n",
       "    }\n",
       "\n",
       "    .dataframe tbody tr th {\n",
       "        vertical-align: top;\n",
       "    }\n",
       "\n",
       "    .dataframe thead th {\n",
       "        text-align: right;\n",
       "    }\n",
       "</style>\n",
       "<table border=\"1\" class=\"dataframe\">\n",
       "  <thead>\n",
       "    <tr style=\"text-align: right;\">\n",
       "      <th></th>\n",
       "      <th>general</th>\n",
       "      <th>sealware/toples</th>\n",
       "      <th>mkn</th>\n",
       "      <th>dpr</th>\n",
       "      <th>pot</th>\n",
       "      <th>hngr</th>\n",
       "      <th>tpm</th>\n",
       "      <th>btlair</th>\n",
       "      <th>bak/ember</th>\n",
       "    </tr>\n",
       "    <tr>\n",
       "      <th>date</th>\n",
       "      <th></th>\n",
       "      <th></th>\n",
       "      <th></th>\n",
       "      <th></th>\n",
       "      <th></th>\n",
       "      <th></th>\n",
       "      <th></th>\n",
       "      <th></th>\n",
       "      <th></th>\n",
       "    </tr>\n",
       "  </thead>\n",
       "  <tbody>\n",
       "    <tr>\n",
       "      <th>2017-07-01</th>\n",
       "      <td>922.0</td>\n",
       "      <td>2584.0</td>\n",
       "      <td>8329.0</td>\n",
       "      <td>4297.0</td>\n",
       "      <td>1398.5</td>\n",
       "      <td>898.0</td>\n",
       "      <td>4644.0</td>\n",
       "      <td>2626.0</td>\n",
       "      <td>1902.0</td>\n",
       "    </tr>\n",
       "    <tr>\n",
       "      <th>2017-08-01</th>\n",
       "      <td>3895.5</td>\n",
       "      <td>3027.0</td>\n",
       "      <td>7565.5</td>\n",
       "      <td>2287.0</td>\n",
       "      <td>2382.5</td>\n",
       "      <td>1114.0</td>\n",
       "      <td>3252.0</td>\n",
       "      <td>1691.0</td>\n",
       "      <td>6036.0</td>\n",
       "    </tr>\n",
       "    <tr>\n",
       "      <th>2017-09-01</th>\n",
       "      <td>32992.5</td>\n",
       "      <td>1245.0</td>\n",
       "      <td>7301.5</td>\n",
       "      <td>3433.0</td>\n",
       "      <td>1058.5</td>\n",
       "      <td>3535.0</td>\n",
       "      <td>2961.0</td>\n",
       "      <td>1231.0</td>\n",
       "      <td>4550.0</td>\n",
       "    </tr>\n",
       "    <tr>\n",
       "      <th>2017-10-01</th>\n",
       "      <td>33837.0</td>\n",
       "      <td>3875.0</td>\n",
       "      <td>6957.0</td>\n",
       "      <td>4274.0</td>\n",
       "      <td>1654.0</td>\n",
       "      <td>3565.0</td>\n",
       "      <td>3126.0</td>\n",
       "      <td>1224.0</td>\n",
       "      <td>4409.0</td>\n",
       "    </tr>\n",
       "    <tr>\n",
       "      <th>2017-11-01</th>\n",
       "      <td>28958.0</td>\n",
       "      <td>9218.0</td>\n",
       "      <td>8140.0</td>\n",
       "      <td>3329.0</td>\n",
       "      <td>2457.0</td>\n",
       "      <td>3254.0</td>\n",
       "      <td>4514.0</td>\n",
       "      <td>909.0</td>\n",
       "      <td>3133.0</td>\n",
       "    </tr>\n",
       "  </tbody>\n",
       "</table>\n",
       "</div>"
      ],
      "text/plain": [
       "            general  sealware/toples     mkn     dpr     pot    hngr     tpm  \\\n",
       "date                                                                           \n",
       "2017-07-01    922.0           2584.0  8329.0  4297.0  1398.5   898.0  4644.0   \n",
       "2017-08-01   3895.5           3027.0  7565.5  2287.0  2382.5  1114.0  3252.0   \n",
       "2017-09-01  32992.5           1245.0  7301.5  3433.0  1058.5  3535.0  2961.0   \n",
       "2017-10-01  33837.0           3875.0  6957.0  4274.0  1654.0  3565.0  3126.0   \n",
       "2017-11-01  28958.0           9218.0  8140.0  3329.0  2457.0  3254.0  4514.0   \n",
       "\n",
       "            btlair  bak/ember  \n",
       "date                           \n",
       "2017-07-01  2626.0     1902.0  \n",
       "2017-08-01  1691.0     6036.0  \n",
       "2017-09-01  1231.0     4550.0  \n",
       "2017-10-01  1224.0     4409.0  \n",
       "2017-11-01   909.0     3133.0  "
      ]
     },
     "execution_count": 23,
     "metadata": {},
     "output_type": "execute_result"
    }
   ],
   "source": [
    "top8_month_sales = pd.concat([category_month_sales['general'], category_month_sales['sealware/toples'], category_month_sales['mkn'], category_month_sales['dpr'], category_month_sales['pot'], category_month_sales['hngr'], category_month_sales['tpm'], category_month_sales['btlair'], category_month_sales['bak/ember']], axis=1)\n",
    "top8_month_sales.head()"
   ]
  },
  {
   "cell_type": "code",
   "execution_count": 24,
   "metadata": {},
   "outputs": [],
   "source": [
    "# from dateutil.parser import parse\n",
    "\n",
    "# # loop through tickers and axes\n",
    "# for ticker in top_category:\n",
    "#     # filter df for ticker and plot on specified axes\n",
    "#     multiplicative_decomposition = seasonal_decompose(top8_month_sales[ticker], model='multiplicative')\n",
    "    \n",
    "#     plt.rcParams.update({'figure.figsize': (16,12)})\n",
    "#     multiplicative_decomposition.plot().suptitle('Multiplicative Decomposition', fontsize=16)\n",
    "#     plt.tight_layout(rect=[0, 0.03, 1, 0.95])\n",
    "    \n",
    "#     plt.show()"
   ]
  },
  {
   "cell_type": "markdown",
   "metadata": {},
   "source": [
    "### Insight yang didapat\n",
    "- General : setiap akhir tahun (bulan november dan desember mengalami penurunan penjualan), di bulan juni kebanyakan mengalami penurunan penjualan kecuali bulan 2020 juni\n",
    "\n",
    "- Toples : awal tahun seperti bulan maret sering mengalami kenaikan penjualan kecuali 2019 maret\n",
    "\n",
    "- Makan : mulai terjadi penurunan penjualan bulan maret, peak di bulan juni untuk 2018, 2019 dan di 2020, 2021 di mei\n",
    "\n",
    "- Dapur : \n",
    "\n",
    "- Pot : terjadi penurunan penjualan pada bulan april, mulai booming / laris saat tahun 2020 juni \n",
    "\n",
    "- Hngr : terjadi penuruan  penjualan pada bulan maret, penjualan menurun drastis setelah tahun 2020 \n",
    "\n",
    "- tempat makan :   \n",
    "\n",
    "- bak/ember : terjadi penuruan  penjualan pada bulan april"
   ]
  },
  {
   "cell_type": "markdown",
   "metadata": {},
   "source": [
    "# 3. Implement Model"
   ]
  },
  {
   "cell_type": "markdown",
   "metadata": {},
   "source": [
    "## 3.1 Implement GRU for General categories"
   ]
  },
  {
   "cell_type": "code",
   "execution_count": 25,
   "metadata": {},
   "outputs": [],
   "source": [
    "general_data = top8_month_sales[['general']].values\n",
    "general_data = general_data.astype('float32') "
   ]
  },
  {
   "cell_type": "code",
   "execution_count": 26,
   "metadata": {},
   "outputs": [],
   "source": [
    "from sklearn.preprocessing import StandardScaler, MinMaxScaler\n",
    "\n",
    "scaler = MinMaxScaler(feature_range=(0, 1))\n",
    "general_data = scaler.fit_transform(general_data)"
   ]
  },
  {
   "cell_type": "code",
   "execution_count": 27,
   "metadata": {},
   "outputs": [],
   "source": [
    "#splitting dataset into train and test split\n",
    "train_size = int(len(general_data) * 0.8)\n",
    "test_size = len(general_data) - train_size\n",
    "train, test = general_data[0:train_size,:], general_data[train_size:len(general_data),:]"
   ]
  },
  {
   "cell_type": "code",
   "execution_count": 28,
   "metadata": {},
   "outputs": [],
   "source": [
    "def create_dataset(dataset, time_step=1):\n",
    "    dataX, dataY = [], []\n",
    "    for i in range(len(dataset)-time_step-1):\n",
    "        a = dataset[i:(i+time_step), 0]  \n",
    "        dataX.append(a)\n",
    "        dataY.append(dataset[i + time_step, 0])\n",
    "    return np.array(dataX), np.array(dataY)"
   ]
  },
  {
   "cell_type": "code",
   "execution_count": 29,
   "metadata": {},
   "outputs": [],
   "source": [
    "time_step = n_input = 5\n",
    "n_nodes = 50\n",
    "n_features = 1\n",
    "trainX, trainY = create_dataset(train, time_step)\n",
    "testX, testY = create_dataset(test, time_step)"
   ]
  },
  {
   "cell_type": "code",
   "execution_count": 30,
   "metadata": {},
   "outputs": [],
   "source": [
    "# print(\"Shape of training set: {}\".format(trainX.shape))\n",
    "# print(\"Shape of test set: {}\".format(testX.shape))"
   ]
  },
  {
   "cell_type": "code",
   "execution_count": 31,
   "metadata": {},
   "outputs": [],
   "source": [
    "# trainX =trainX.reshape(trainX.shape[0],trainX.shape[1] , 1)\n",
    "# testX = testX.reshape(testX.shape[0],testX.shape[1] , 1)"
   ]
  },
  {
   "cell_type": "code",
   "execution_count": 32,
   "metadata": {},
   "outputs": [],
   "source": [
    "# model=Sequential()\n",
    "# model.add(LSTM(n_nodes,return_sequences=True,input_shape=(time_step,n_features)))\n",
    "# model.add(LSTM(n_nodes,return_sequences=True))\n",
    "# model.add(LSTM(n_nodes))\n",
    "# model.add(Dense(1))\n",
    "# model.compile(loss='mean_squared_error',optimizer='adam')\n",
    "# model.summary()"
   ]
  },
  {
   "cell_type": "code",
   "execution_count": 33,
   "metadata": {},
   "outputs": [],
   "source": [
    "# model.fit(trainX,trainY,validation_data=(testX,testY),epochs=100,batch_size=64,verbose=1)"
   ]
  },
  {
   "cell_type": "code",
   "execution_count": 34,
   "metadata": {},
   "outputs": [],
   "source": [
    "# ### Lets Do the prediction and check performance metrics\n",
    "# train_predict=model.predict(trainX)\n",
    "# test_predict=model.predict(testX)"
   ]
  },
  {
   "cell_type": "code",
   "execution_count": 35,
   "metadata": {},
   "outputs": [],
   "source": [
    "# train_predict=scaler.inverse_transform(train_predict)\n",
    "# test_predict=scaler.inverse_transform(test_predict)\n",
    "# y_train = scaler.inverse_transform([trainY])\n",
    "# y_test = scaler.inverse_transform([testY])"
   ]
  },
  {
   "cell_type": "code",
   "execution_count": 36,
   "metadata": {},
   "outputs": [],
   "source": [
    "# y_train[0]"
   ]
  },
  {
   "cell_type": "code",
   "execution_count": 37,
   "metadata": {},
   "outputs": [],
   "source": [
    "# train_predict"
   ]
  },
  {
   "cell_type": "code",
   "execution_count": 38,
   "metadata": {},
   "outputs": [],
   "source": [
    "# ### Calculate RMSE performance metrics\n",
    "# import math\n",
    "# from sklearn.metrics import mean_squared_error\n",
    "# math.sqrt(mean_squared_error(trainY,train_predict))"
   ]
  },
  {
   "cell_type": "code",
   "execution_count": 39,
   "metadata": {},
   "outputs": [],
   "source": [
    "# ### Test Data RMSE\n",
    "# math.sqrt(mean_squared_error(testY,test_predict))"
   ]
  },
  {
   "cell_type": "code",
   "execution_count": 40,
   "metadata": {},
   "outputs": [],
   "source": [
    "## beda dari krish naik"
   ]
  },
  {
   "cell_type": "code",
   "execution_count": 41,
   "metadata": {},
   "outputs": [
    {
     "name": "stdout",
     "output_type": "stream",
     "text": [
      "(34, 1, 5) (4, 1, 5)\n"
     ]
    }
   ],
   "source": [
    "trainX = np.reshape(trainX, (trainX.shape[0], 1, trainX.shape[1]))\n",
    "testX = np.reshape(testX, (testX.shape[0], 1, testX.shape[1]))\n",
    "print(trainX.shape, testX.shape)"
   ]
  },
  {
   "cell_type": "code",
   "execution_count": 42,
   "metadata": {},
   "outputs": [
    {
     "name": "stdout",
     "output_type": "stream",
     "text": [
      "Model: \"sequential\"\n",
      "_________________________________________________________________\n",
      " Layer (type)                Output Shape              Param #   \n",
      "=================================================================\n",
      " gru (GRU)                   (None, None, 50)          8550      \n",
      "                                                                 \n",
      " gru_1 (GRU)                 (None, None, 50)          15300     \n",
      "                                                                 \n",
      " gru_2 (GRU)                 (None, 50)                15300     \n",
      "                                                                 \n",
      " dense (Dense)               (None, 1)                 51        \n",
      "                                                                 \n",
      "=================================================================\n",
      "Total params: 39,201\n",
      "Trainable params: 39,201\n",
      "Non-trainable params: 0\n",
      "_________________________________________________________________\n"
     ]
    }
   ],
   "source": [
    "model = Sequential()\n",
    "model.add(GRU(n_nodes, activation='relu', return_sequences=True, input_shape=(None, time_step)))\n",
    "model.add(GRU(n_nodes,return_sequences=True))\n",
    "model.add(GRU(n_nodes))\n",
    "model.add(Dense(1))\n",
    "model.compile(optimizer='adam', loss='mean_squared_error')\n",
    "\n",
    "model.summary()"
   ]
  },
  {
   "cell_type": "code",
   "execution_count": 43,
   "metadata": {},
   "outputs": [
    {
     "name": "stdout",
     "output_type": "stream",
     "text": [
      "Epoch 1/150\n",
      "17/17 [==============================] - 4s 60ms/step - loss: 0.0517 - val_loss: 0.0044\n",
      "Epoch 2/150\n",
      "17/17 [==============================] - 0s 5ms/step - loss: 0.0199 - val_loss: 0.0276\n",
      "Epoch 3/150\n",
      "17/17 [==============================] - 0s 4ms/step - loss: 0.0218 - val_loss: 0.0098\n",
      "Epoch 4/150\n",
      "17/17 [==============================] - 0s 5ms/step - loss: 0.0204 - val_loss: 0.0134\n",
      "Epoch 5/150\n",
      "17/17 [==============================] - 0s 5ms/step - loss: 0.0195 - val_loss: 0.0141\n",
      "Epoch 6/150\n",
      "17/17 [==============================] - 0s 4ms/step - loss: 0.0201 - val_loss: 0.0100\n",
      "Epoch 7/150\n",
      "17/17 [==============================] - 0s 5ms/step - loss: 0.0193 - val_loss: 0.0105\n",
      "Epoch 8/150\n",
      "17/17 [==============================] - 0s 5ms/step - loss: 0.0186 - val_loss: 0.0132\n",
      "Epoch 9/150\n",
      "17/17 [==============================] - 0s 5ms/step - loss: 0.0183 - val_loss: 0.0118\n",
      "Epoch 10/150\n",
      "17/17 [==============================] - 0s 5ms/step - loss: 0.0177 - val_loss: 0.0095\n",
      "Epoch 11/150\n",
      "17/17 [==============================] - 0s 6ms/step - loss: 0.0190 - val_loss: 0.0096\n",
      "Epoch 12/150\n",
      "17/17 [==============================] - 0s 5ms/step - loss: 0.0183 - val_loss: 0.0084\n",
      "Epoch 13/150\n",
      "17/17 [==============================] - 0s 5ms/step - loss: 0.0165 - val_loss: 0.0105\n",
      "Epoch 14/150\n",
      "17/17 [==============================] - 0s 5ms/step - loss: 0.0168 - val_loss: 0.0072\n",
      "Epoch 15/150\n",
      "17/17 [==============================] - 0s 5ms/step - loss: 0.0161 - val_loss: 0.0085\n",
      "Epoch 16/150\n",
      "17/17 [==============================] - 0s 5ms/step - loss: 0.0168 - val_loss: 0.0039\n",
      "Epoch 17/150\n",
      "17/17 [==============================] - 0s 5ms/step - loss: 0.0146 - val_loss: 0.0098\n",
      "Epoch 18/150\n",
      "17/17 [==============================] - 0s 4ms/step - loss: 0.0145 - val_loss: 0.0054\n",
      "Epoch 19/150\n",
      "17/17 [==============================] - 0s 4ms/step - loss: 0.0137 - val_loss: 0.0053\n",
      "Epoch 20/150\n",
      "17/17 [==============================] - 0s 5ms/step - loss: 0.0140 - val_loss: 0.0038\n",
      "Epoch 21/150\n",
      "17/17 [==============================] - 0s 5ms/step - loss: 0.0127 - val_loss: 0.0060\n",
      "Epoch 22/150\n",
      "17/17 [==============================] - 0s 5ms/step - loss: 0.0130 - val_loss: 0.0058\n",
      "Epoch 23/150\n",
      "17/17 [==============================] - 0s 5ms/step - loss: 0.0132 - val_loss: 0.0030\n",
      "Epoch 24/150\n",
      "17/17 [==============================] - 0s 5ms/step - loss: 0.0120 - val_loss: 0.0045\n",
      "Epoch 25/150\n",
      "17/17 [==============================] - 0s 5ms/step - loss: 0.0125 - val_loss: 0.0053\n",
      "Epoch 26/150\n",
      "17/17 [==============================] - 0s 5ms/step - loss: 0.0112 - val_loss: 0.0018\n",
      "Epoch 27/150\n",
      "17/17 [==============================] - 0s 5ms/step - loss: 0.0118 - val_loss: 0.0063\n",
      "Epoch 28/150\n",
      "17/17 [==============================] - 0s 5ms/step - loss: 0.0119 - val_loss: 0.0031\n",
      "Epoch 29/150\n",
      "17/17 [==============================] - 0s 5ms/step - loss: 0.0106 - val_loss: 0.0077\n",
      "Epoch 30/150\n",
      "17/17 [==============================] - 0s 6ms/step - loss: 0.0125 - val_loss: 0.0090\n",
      "Epoch 31/150\n",
      "17/17 [==============================] - 0s 5ms/step - loss: 0.0119 - val_loss: 0.0038\n",
      "Epoch 32/150\n",
      "17/17 [==============================] - 0s 5ms/step - loss: 0.0100 - val_loss: 0.0078\n",
      "Epoch 33/150\n",
      "17/17 [==============================] - 0s 4ms/step - loss: 0.0091 - val_loss: 0.0041\n",
      "Epoch 34/150\n",
      "17/17 [==============================] - 0s 5ms/step - loss: 0.0093 - val_loss: 0.0037\n",
      "Epoch 35/150\n",
      "17/17 [==============================] - 0s 5ms/step - loss: 0.0102 - val_loss: 0.0057\n",
      "Epoch 36/150\n",
      "17/17 [==============================] - 0s 5ms/step - loss: 0.0083 - val_loss: 0.0073\n",
      "Epoch 37/150\n",
      "17/17 [==============================] - 0s 5ms/step - loss: 0.0086 - val_loss: 0.0039\n",
      "Epoch 38/150\n",
      "17/17 [==============================] - 0s 6ms/step - loss: 0.0094 - val_loss: 0.0135\n",
      "Epoch 39/150\n",
      "17/17 [==============================] - 0s 5ms/step - loss: 0.0080 - val_loss: 0.0068\n",
      "Epoch 40/150\n",
      "17/17 [==============================] - 0s 5ms/step - loss: 0.0086 - val_loss: 0.0077\n",
      "Epoch 41/150\n",
      "17/17 [==============================] - 0s 4ms/step - loss: 0.0081 - val_loss: 0.0122\n",
      "Epoch 42/150\n",
      "17/17 [==============================] - 0s 5ms/step - loss: 0.0102 - val_loss: 0.0192\n",
      "Epoch 43/150\n",
      "17/17 [==============================] - 0s 5ms/step - loss: 0.0090 - val_loss: 0.0054\n",
      "Epoch 44/150\n",
      "17/17 [==============================] - 0s 5ms/step - loss: 0.0086 - val_loss: 0.0105\n",
      "Epoch 45/150\n",
      "17/17 [==============================] - 0s 5ms/step - loss: 0.0079 - val_loss: 0.0145\n",
      "Epoch 46/150\n",
      "17/17 [==============================] - 0s 6ms/step - loss: 0.0066 - val_loss: 0.0086\n",
      "Epoch 47/150\n",
      "17/17 [==============================] - 0s 5ms/step - loss: 0.0067 - val_loss: 0.0135\n",
      "Epoch 48/150\n",
      "17/17 [==============================] - 0s 4ms/step - loss: 0.0060 - val_loss: 0.0110\n",
      "Epoch 49/150\n",
      "17/17 [==============================] - 0s 5ms/step - loss: 0.0060 - val_loss: 0.0089\n",
      "Epoch 50/150\n",
      "17/17 [==============================] - 0s 5ms/step - loss: 0.0071 - val_loss: 0.0207\n",
      "Epoch 51/150\n",
      "17/17 [==============================] - 0s 5ms/step - loss: 0.0054 - val_loss: 0.0072\n",
      "Epoch 52/150\n",
      "17/17 [==============================] - 0s 5ms/step - loss: 0.0075 - val_loss: 0.0151\n",
      "Epoch 53/150\n",
      "17/17 [==============================] - 0s 5ms/step - loss: 0.0072 - val_loss: 0.0190\n",
      "Epoch 54/150\n",
      "17/17 [==============================] - 0s 5ms/step - loss: 0.0050 - val_loss: 0.0113\n",
      "Epoch 55/150\n",
      "17/17 [==============================] - 0s 5ms/step - loss: 0.0048 - val_loss: 0.0207\n",
      "Epoch 56/150\n",
      "17/17 [==============================] - 0s 5ms/step - loss: 0.0056 - val_loss: 0.0176\n",
      "Epoch 57/150\n",
      "17/17 [==============================] - 0s 5ms/step - loss: 0.0053 - val_loss: 0.0153\n",
      "Epoch 58/150\n",
      "17/17 [==============================] - 0s 5ms/step - loss: 0.0069 - val_loss: 0.0253\n",
      "Epoch 59/150\n",
      "17/17 [==============================] - 0s 5ms/step - loss: 0.0051 - val_loss: 0.0116\n",
      "Epoch 60/150\n",
      "17/17 [==============================] - 0s 4ms/step - loss: 0.0057 - val_loss: 0.0137\n",
      "Epoch 61/150\n",
      "17/17 [==============================] - 0s 5ms/step - loss: 0.0043 - val_loss: 0.0218\n",
      "Epoch 62/150\n",
      "17/17 [==============================] - 0s 5ms/step - loss: 0.0045 - val_loss: 0.0192\n",
      "Epoch 63/150\n",
      "17/17 [==============================] - 0s 5ms/step - loss: 0.0041 - val_loss: 0.0222\n",
      "Epoch 64/150\n",
      "17/17 [==============================] - 0s 5ms/step - loss: 0.0045 - val_loss: 0.0133\n",
      "Epoch 65/150\n",
      "17/17 [==============================] - 0s 5ms/step - loss: 0.0038 - val_loss: 0.0209\n",
      "Epoch 66/150\n",
      "17/17 [==============================] - 0s 5ms/step - loss: 0.0039 - val_loss: 0.0173\n",
      "Epoch 67/150\n",
      "17/17 [==============================] - 0s 5ms/step - loss: 0.0040 - val_loss: 0.0170\n",
      "Epoch 68/150\n",
      "17/17 [==============================] - 0s 5ms/step - loss: 0.0039 - val_loss: 0.0183\n",
      "Epoch 69/150\n",
      "17/17 [==============================] - 0s 5ms/step - loss: 0.0037 - val_loss: 0.0318\n",
      "Epoch 70/150\n",
      "17/17 [==============================] - 0s 5ms/step - loss: 0.0039 - val_loss: 0.0187\n",
      "Epoch 71/150\n",
      "17/17 [==============================] - 0s 4ms/step - loss: 0.0035 - val_loss: 0.0183\n",
      "Epoch 72/150\n",
      "17/17 [==============================] - 0s 5ms/step - loss: 0.0033 - val_loss: 0.0178\n",
      "Epoch 73/150\n",
      "17/17 [==============================] - 0s 5ms/step - loss: 0.0047 - val_loss: 0.0180\n",
      "Epoch 74/150\n",
      "17/17 [==============================] - 0s 5ms/step - loss: 0.0050 - val_loss: 0.0171\n",
      "Epoch 75/150\n",
      "17/17 [==============================] - 0s 5ms/step - loss: 0.0039 - val_loss: 0.0171\n",
      "Epoch 76/150\n",
      "17/17 [==============================] - 0s 5ms/step - loss: 0.0031 - val_loss: 0.0264\n",
      "Epoch 77/150\n",
      "17/17 [==============================] - 0s 5ms/step - loss: 0.0037 - val_loss: 0.0257\n",
      "Epoch 78/150\n",
      "17/17 [==============================] - 0s 5ms/step - loss: 0.0040 - val_loss: 0.0162\n",
      "Epoch 79/150\n",
      "17/17 [==============================] - 0s 5ms/step - loss: 0.0053 - val_loss: 0.0168\n",
      "Epoch 80/150\n",
      "17/17 [==============================] - 0s 5ms/step - loss: 0.0049 - val_loss: 0.0200\n",
      "Epoch 81/150\n",
      "17/17 [==============================] - 0s 5ms/step - loss: 0.0036 - val_loss: 0.0170\n",
      "Epoch 82/150\n",
      "17/17 [==============================] - 0s 5ms/step - loss: 0.0030 - val_loss: 0.0196\n",
      "Epoch 83/150\n"
     ]
    },
    {
     "name": "stdout",
     "output_type": "stream",
     "text": [
      "17/17 [==============================] - 0s 5ms/step - loss: 0.0029 - val_loss: 0.0280\n",
      "Epoch 84/150\n",
      "17/17 [==============================] - 0s 5ms/step - loss: 0.0036 - val_loss: 0.0235\n",
      "Epoch 85/150\n",
      "17/17 [==============================] - 0s 5ms/step - loss: 0.0044 - val_loss: 0.0359\n",
      "Epoch 86/150\n",
      "17/17 [==============================] - 0s 5ms/step - loss: 0.0038 - val_loss: 0.0265\n",
      "Epoch 87/150\n",
      "17/17 [==============================] - 0s 5ms/step - loss: 0.0029 - val_loss: 0.0277\n",
      "Epoch 88/150\n",
      "17/17 [==============================] - 0s 5ms/step - loss: 0.0027 - val_loss: 0.0207\n",
      "Epoch 89/150\n",
      "17/17 [==============================] - 0s 5ms/step - loss: 0.0025 - val_loss: 0.0257\n",
      "Epoch 90/150\n",
      "17/17 [==============================] - 0s 5ms/step - loss: 0.0022 - val_loss: 0.0328\n",
      "Epoch 91/150\n",
      "17/17 [==============================] - 0s 5ms/step - loss: 0.0026 - val_loss: 0.0266\n",
      "Epoch 92/150\n",
      "17/17 [==============================] - 0s 4ms/step - loss: 0.0029 - val_loss: 0.0202\n",
      "Epoch 93/150\n",
      "17/17 [==============================] - 0s 5ms/step - loss: 0.0033 - val_loss: 0.0358\n",
      "Epoch 94/150\n",
      "17/17 [==============================] - 0s 6ms/step - loss: 0.0048 - val_loss: 0.0375\n",
      "Epoch 95/150\n",
      "17/17 [==============================] - 0s 5ms/step - loss: 0.0033 - val_loss: 0.0346\n",
      "Epoch 96/150\n",
      "17/17 [==============================] - 0s 5ms/step - loss: 0.0028 - val_loss: 0.0359\n",
      "Epoch 97/150\n",
      "17/17 [==============================] - 0s 5ms/step - loss: 0.0026 - val_loss: 0.0275\n",
      "Epoch 98/150\n",
      "17/17 [==============================] - 0s 5ms/step - loss: 0.0037 - val_loss: 0.0154\n",
      "Epoch 99/150\n",
      "17/17 [==============================] - 0s 5ms/step - loss: 0.0037 - val_loss: 0.0340\n",
      "Epoch 100/150\n",
      "17/17 [==============================] - 0s 5ms/step - loss: 0.0034 - val_loss: 0.0296\n",
      "Epoch 101/150\n",
      "17/17 [==============================] - 0s 5ms/step - loss: 0.0023 - val_loss: 0.0344\n",
      "Epoch 102/150\n",
      "17/17 [==============================] - 0s 5ms/step - loss: 0.0024 - val_loss: 0.0310\n",
      "Epoch 103/150\n",
      "17/17 [==============================] - 0s 5ms/step - loss: 0.0023 - val_loss: 0.0280\n",
      "Epoch 104/150\n",
      "17/17 [==============================] - 0s 5ms/step - loss: 0.0023 - val_loss: 0.0239\n",
      "Epoch 105/150\n",
      "17/17 [==============================] - 0s 5ms/step - loss: 0.0023 - val_loss: 0.0323\n",
      "Epoch 106/150\n",
      "17/17 [==============================] - 0s 6ms/step - loss: 0.0020 - val_loss: 0.0281\n",
      "Epoch 107/150\n",
      "17/17 [==============================] - 0s 5ms/step - loss: 0.0019 - val_loss: 0.0332\n",
      "Epoch 108/150\n",
      "17/17 [==============================] - 0s 5ms/step - loss: 0.0020 - val_loss: 0.0335\n",
      "Epoch 109/150\n",
      "17/17 [==============================] - 0s 5ms/step - loss: 0.0020 - val_loss: 0.0316\n",
      "Epoch 110/150\n",
      "17/17 [==============================] - 0s 7ms/step - loss: 0.0030 - val_loss: 0.0273\n",
      "Epoch 111/150\n",
      "17/17 [==============================] - 0s 6ms/step - loss: 0.0029 - val_loss: 0.0322\n",
      "Epoch 112/150\n",
      "17/17 [==============================] - 0s 5ms/step - loss: 0.0022 - val_loss: 0.0324\n",
      "Epoch 113/150\n",
      "17/17 [==============================] - 0s 6ms/step - loss: 0.0028 - val_loss: 0.0354\n",
      "Epoch 114/150\n",
      "17/17 [==============================] - 0s 6ms/step - loss: 0.0030 - val_loss: 0.0440\n",
      "Epoch 115/150\n",
      "17/17 [==============================] - 0s 6ms/step - loss: 0.0030 - val_loss: 0.0304\n",
      "Epoch 116/150\n",
      "17/17 [==============================] - 0s 6ms/step - loss: 0.0021 - val_loss: 0.0327\n",
      "Epoch 117/150\n",
      "17/17 [==============================] - 0s 6ms/step - loss: 0.0025 - val_loss: 0.0357\n",
      "Epoch 118/150\n",
      "17/17 [==============================] - 0s 6ms/step - loss: 0.0024 - val_loss: 0.0383\n",
      "Epoch 119/150\n",
      "17/17 [==============================] - 0s 5ms/step - loss: 0.0021 - val_loss: 0.0373\n",
      "Epoch 120/150\n",
      "17/17 [==============================] - 0s 6ms/step - loss: 0.0020 - val_loss: 0.0385\n",
      "Epoch 121/150\n",
      "17/17 [==============================] - 0s 6ms/step - loss: 0.0019 - val_loss: 0.0391\n",
      "Epoch 122/150\n",
      "17/17 [==============================] - 0s 6ms/step - loss: 0.0024 - val_loss: 0.0406\n",
      "Epoch 123/150\n",
      "17/17 [==============================] - 0s 5ms/step - loss: 0.0026 - val_loss: 0.0331\n",
      "Epoch 124/150\n",
      "17/17 [==============================] - 0s 5ms/step - loss: 0.0019 - val_loss: 0.0399\n",
      "Epoch 125/150\n",
      "17/17 [==============================] - 0s 5ms/step - loss: 0.0022 - val_loss: 0.0362\n",
      "Epoch 126/150\n",
      "17/17 [==============================] - 0s 5ms/step - loss: 0.0030 - val_loss: 0.0408\n",
      "Epoch 127/150\n",
      "17/17 [==============================] - 0s 5ms/step - loss: 0.0034 - val_loss: 0.0431\n",
      "Epoch 128/150\n",
      "17/17 [==============================] - 0s 5ms/step - loss: 0.0022 - val_loss: 0.0305\n",
      "Epoch 129/150\n",
      "17/17 [==============================] - 0s 5ms/step - loss: 0.0020 - val_loss: 0.0297\n",
      "Epoch 130/150\n",
      "17/17 [==============================] - 0s 5ms/step - loss: 0.0019 - val_loss: 0.0220\n",
      "Epoch 131/150\n",
      "17/17 [==============================] - 0s 5ms/step - loss: 0.0030 - val_loss: 0.0312\n",
      "Epoch 132/150\n",
      "17/17 [==============================] - 0s 6ms/step - loss: 0.0020 - val_loss: 0.0264\n",
      "Epoch 133/150\n",
      "17/17 [==============================] - 0s 5ms/step - loss: 0.0020 - val_loss: 0.0275\n",
      "Epoch 134/150\n",
      "17/17 [==============================] - 0s 5ms/step - loss: 0.0018 - val_loss: 0.0353\n",
      "Epoch 135/150\n",
      "17/17 [==============================] - 0s 5ms/step - loss: 0.0020 - val_loss: 0.0386\n",
      "Epoch 136/150\n",
      "17/17 [==============================] - 0s 5ms/step - loss: 0.0021 - val_loss: 0.0295\n",
      "Epoch 137/150\n",
      "17/17 [==============================] - 0s 5ms/step - loss: 0.0017 - val_loss: 0.0383\n",
      "Epoch 138/150\n",
      "17/17 [==============================] - 0s 5ms/step - loss: 0.0017 - val_loss: 0.0345\n",
      "Epoch 139/150\n",
      "17/17 [==============================] - 0s 6ms/step - loss: 0.0022 - val_loss: 0.0306\n",
      "Epoch 140/150\n",
      "17/17 [==============================] - 0s 6ms/step - loss: 0.0020 - val_loss: 0.0344\n",
      "Epoch 141/150\n",
      "17/17 [==============================] - 0s 6ms/step - loss: 0.0022 - val_loss: 0.0336\n",
      "Epoch 142/150\n",
      "17/17 [==============================] - 0s 6ms/step - loss: 0.0016 - val_loss: 0.0406\n",
      "Epoch 143/150\n",
      "17/17 [==============================] - 0s 6ms/step - loss: 0.0015 - val_loss: 0.0422\n",
      "Epoch 144/150\n",
      "17/17 [==============================] - 0s 6ms/step - loss: 0.0019 - val_loss: 0.0353\n",
      "Epoch 145/150\n",
      "17/17 [==============================] - 0s 5ms/step - loss: 0.0016 - val_loss: 0.0330\n",
      "Epoch 146/150\n",
      "17/17 [==============================] - 0s 5ms/step - loss: 0.0015 - val_loss: 0.0302\n",
      "Epoch 147/150\n",
      "17/17 [==============================] - 0s 4ms/step - loss: 0.0017 - val_loss: 0.0350\n",
      "Epoch 148/150\n",
      "17/17 [==============================] - 0s 5ms/step - loss: 0.0016 - val_loss: 0.0369\n",
      "Epoch 149/150\n",
      "17/17 [==============================] - 0s 5ms/step - loss: 0.0015 - val_loss: 0.0348\n",
      "Epoch 150/150\n",
      "17/17 [==============================] - 0s 5ms/step - loss: 0.0016 - val_loss: 0.0333\n"
     ]
    },
    {
     "data": {
      "text/plain": [
       "<keras.callbacks.History at 0x1e9bc868370>"
      ]
     },
     "execution_count": 43,
     "metadata": {},
     "output_type": "execute_result"
    }
   ],
   "source": [
    "model.fit(trainX, trainY, validation_data=(testX, testY),batch_size=2, verbose=1, epochs=150)"
   ]
  },
  {
   "cell_type": "code",
   "execution_count": 44,
   "metadata": {},
   "outputs": [],
   "source": [
    "trainPredict = model.predict(trainX)\n",
    "testPredict = model.predict(testX)"
   ]
  },
  {
   "cell_type": "code",
   "execution_count": 45,
   "metadata": {},
   "outputs": [],
   "source": [
    "trainPredict = scaler.inverse_transform(trainPredict)\n",
    "trainY = scaler.inverse_transform([trainY])\n",
    "testPredict = scaler.inverse_transform(testPredict)\n",
    "testY = scaler.inverse_transform([testY])"
   ]
  },
  {
   "cell_type": "code",
   "execution_count": 46,
   "metadata": {},
   "outputs": [
    {
     "data": {
      "text/plain": [
       "array([ 8700.3125, 27150.178 , 12968.742 , 22441.898 , 13606.007 ,\n",
       "       11508.142 ,  1952.2537, 23068.72  , 16779.742 , 16158.1875,\n",
       "       14445.179 , 10469.35  ,  6730.337 ,  8436.644 ,  6790.1846,\n",
       "        3260.3582, 12693.006 , 10049.433 ,  2306.302 , 14973.586 ,\n",
       "       28106.654 , 31863.105 , 25045.477 , 21587.967 , 10405.265 ,\n",
       "        7056.1284, 13151.059 , 17761.936 ,  9458.4795,  2823.9949,\n",
       "       15463.093 , 12989.494 , 12405.803 , 13827.54  ], dtype=float32)"
      ]
     },
     "execution_count": 46,
     "metadata": {},
     "output_type": "execute_result"
    }
   ],
   "source": [
    "trainPredict[:,0]"
   ]
  },
  {
   "cell_type": "code",
   "execution_count": 47,
   "metadata": {},
   "outputs": [
    {
     "data": {
      "text/plain": [
       "array([ 8973.00014783, 28008.99891711, 14046.49985974, 23443.00031156,\n",
       "       14276.50105399, 13625.50019923,  3597.0000485 , 23515.50069664,\n",
       "       19955.00074611, 17506.49968747, 11559.99966788, 10479.00017343,\n",
       "        9985.9999387 ,  7085.4998221 ,  9099.49997032,  3112.49997536,\n",
       "       13616.50042544,  7517.00027819,  1727.00005548, 14729.49973364,\n",
       "       28911.99900053, 32088.49800746, 26106.50108735, 22535.49954663,\n",
       "       11929.49973985,  7444.49989311, 12420.00012571, 21053.99978816,\n",
       "        9442.49973713,  2822.00001474, 15861.99961123, 13631.00050245,\n",
       "       13573.00019439, 21772.50053563])"
      ]
     },
     "execution_count": 47,
     "metadata": {},
     "output_type": "execute_result"
    }
   ],
   "source": [
    "trainY[0]"
   ]
  },
  {
   "cell_type": "code",
   "execution_count": 48,
   "metadata": {},
   "outputs": [
    {
     "name": "stdout",
     "output_type": "stream",
     "text": [
      "Train Score: 2015.41 RMSE\n",
      "Test Score: 9727.84 RMSE\n"
     ]
    }
   ],
   "source": [
    "trainScore = math.sqrt(mean_squared_error(trainY[0], trainPredict[:,0]))\n",
    "print('Train Score: %.2f RMSE' % (trainScore))\n",
    "\n",
    "testScore = math.sqrt(mean_squared_error(testY[0], testPredict[:,0]))\n",
    "print('Test Score: %.2f RMSE' % (testScore))"
   ]
  },
  {
   "cell_type": "code",
   "execution_count": 49,
   "metadata": {},
   "outputs": [
    {
     "data": {
      "image/png": "[encoded data removed]",
      "text/plain": [
       "<Figure size 864x432 with 1 Axes>"
      ]
     },
     "metadata": {
      "needs_background": "light"
     },
     "output_type": "display_data"
    }
   ],
   "source": [
    "trainPredictPlot = np.empty_like(general_data)\n",
    "trainPredictPlot[:, :] = np.nan\n",
    "trainPredictPlot[time_step:len(trainPredict)+time_step, :] = trainPredict\n",
    "\n",
    "# shift test predictions for plotting\n",
    "testPredictPlot = np.empty_like(general_data)\n",
    "testPredictPlot[:, :] = np.nan\n",
    "testPredictPlot[len(trainPredict)+(time_step*2)+1:len(general_data)-1, :] = testPredict\n",
    "\n",
    "# plot baseline and predictions\n",
    "plt.plot(scaler.inverse_transform(general_data))\n",
    "plt.plot(trainPredictPlot)\n",
    "plt.plot(testPredictPlot)\n",
    "plt.show()"
   ]
  },
  {
   "cell_type": "code",
   "execution_count": 50,
   "metadata": {},
   "outputs": [
    {
     "data": {
      "text/plain": [
       "(1, 5)"
      ]
     },
     "execution_count": 50,
     "metadata": {},
     "output_type": "execute_result"
    }
   ],
   "source": [
    "x_input=test[5:].reshape(1,-1)\n",
    "x_input.shape"
   ]
  },
  {
   "cell_type": "code",
   "execution_count": null,
   "metadata": {},
   "outputs": [],
   "source": []
  },
  {
   "cell_type": "code",
   "execution_count": 51,
   "metadata": {},
   "outputs": [],
   "source": [
    "##bnsreenu"
   ]
  },
  {
   "cell_type": "code",
   "execution_count": 52,
   "metadata": {},
   "outputs": [],
   "source": [
    "# train_size = int(len(general_data) * 0.9)\n",
    "# test_size = len(general_data) - train_size\n",
    "# train, test = general_data[0:train_size,:], general_data[train_size:len(general_data),:]\n",
    "# print(train.shape, test.shape)"
   ]
  },
  {
   "cell_type": "code",
   "execution_count": 53,
   "metadata": {},
   "outputs": [],
   "source": [
    "# from keras.preprocessing.sequence import TimeseriesGenerator # Generates batches for sequence data\n",
    "# seq_size = length = 2\n",
    "# batch_size = 1\n",
    "# n_nodes = 50\n",
    "# n_input = 2\n",
    "# n_features = 1\n",
    "# train_generator = TimeseriesGenerator(train,train,length=length,batch_size=batch_size)\n",
    "# print(\"Total number of samples in the original training data = \", len(train))\n",
    "# print(\"Total number of samples in the generated data = \", len(train_generator)) \n",
    "\n",
    "# # print a couple of samples... \n",
    "# x, y = train_generator[0]\n",
    "\n",
    "# #Also generate validation data\n",
    "# validation_generator = TimeseriesGenerator(test, test, length=length ,batch_size=batch_size)\n",
    "\n",
    "# #Input dimensions are... (N x seq_size)\n",
    "# num_features = 1 "
   ]
  },
  {
   "cell_type": "code",
   "execution_count": 54,
   "metadata": {},
   "outputs": [],
   "source": [
    "# model = Sequential()\n",
    "# model.add(GRU(n_nodes, return_sequences=True, activation='relu', input_shape=(n_input, n_features)))\n",
    "# model.add(GRU(n_nodes, activation='relu'))\n",
    "# model.add(Dense(n_nodes, activation='relu'))\n",
    "# model.add(Dense(1))\n",
    "# model.compile(loss='mse', optimizer='adam')"
   ]
  },
  {
   "cell_type": "code",
   "execution_count": 55,
   "metadata": {},
   "outputs": [],
   "source": [
    "# model.fit_generator(generator=train_generator, verbose=2, epochs=50, validation_data=validation_generator)"
   ]
  },
  {
   "cell_type": "code",
   "execution_count": 56,
   "metadata": {},
   "outputs": [],
   "source": [
    "# trainPredict = model.predict(train_generator)\n",
    "# testPredict = model.predict(validation_generator)"
   ]
  },
  {
   "cell_type": "code",
   "execution_count": 57,
   "metadata": {},
   "outputs": [],
   "source": [
    "# trainPredict = scaler.inverse_transform(trainPredict)\n",
    "# trainY_inverse = scaler.inverse_transform(train)\n",
    "# testPredict = scaler.inverse_transform(testPredict)\n",
    "# testY_inverse = scaler.inverse_transform(test)"
   ]
  },
  {
   "cell_type": "code",
   "execution_count": 58,
   "metadata": {},
   "outputs": [],
   "source": [
    "# # calculate root mean squared error\n",
    "# trainScore = math.sqrt(mean_squared_error(trainY_inverse[length:], trainPredict[:,0]))\n",
    "# print('Train Score: %.2f RMSE' % (trainScore))\n",
    "\n",
    "# testScore = math.sqrt(mean_squared_error(testY_inverse[length:], testPredict[:,0]))\n",
    "# print('Test Score: %.2f RMSE' % (testScore))"
   ]
  },
  {
   "cell_type": "code",
   "execution_count": 59,
   "metadata": {},
   "outputs": [],
   "source": [
    "# trainPredictPlot = np.empty_like(general_data)\n",
    "# trainPredictPlot[:, :] = np.nan\n",
    "# trainPredictPlot[length:len(trainPredict)+length, :] = trainPredict\n",
    "\n",
    "# # shift test predictions for plotting\n",
    "# testPredictPlot = np.empty_like(general_data)\n",
    "# testPredictPlot[:, :] = np.nan\n",
    "# #testPredictPlot[len(trainPredict)+(seq_size*2)-1:len(dataset)-1, :] = testPredict\n",
    "# testPredictPlot[len(train)+(length)-1:len(general_data)-1, :] = testPredict\n",
    "\n",
    "\n",
    "# # plot baseline and predictions\n",
    "# plt.plot(scaler.inverse_transform(general_data))\n",
    "# plt.plot(trainPredictPlot)\n",
    "# plt.plot(testPredictPlot)\n",
    "# plt.show()"
   ]
  }
 ],
 "metadata": {
  "kernelspec": {
   "display_name": "Python 3",
   "language": "python",
   "name": "python3"
  },
  "language_info": {
   "codemirror_mode": {
    "name": "ipython",
    "version": 3
   },
   "file_extension": ".py",
   "mimetype": "text/x-python",
   "name": "python",
   "nbconvert_exporter": "python",
   "pygments_lexer": "ipython3",
   "version": "3.8.3"
  }
 },
 "nbformat": 4,
 "nbformat_minor": 4
}
