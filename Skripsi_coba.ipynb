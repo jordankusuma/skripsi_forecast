{
 "cells": [
  {
   "cell_type": "markdown",
   "metadata": {},
   "source": [
    "#  Introduction\n",
    "\n",
    "## Problem Statement\n",
    "*  there is a change in trend that occurs due to uncertain conditions causing excessive stock of goods, so sometimes goods that have been purchased cannot be resold because the product has been piling up too long in the inventory.\n",
    "\n",
    "*  determining the storage of stock goods by analyzing using sales data for the previous month / year because the data in the previous month usually has an impact on future sales, while sales that occur do not always follow the previous month's data \n",
    "\n",
    "## Data Provided\n",
    "The Data that is used in this project are\n",
    "*     **sale_items.csv** - Contains the details of historical daily sales of a customer\n",
    "*     **sales.csv** - Contains the historical daily sales of a customer\n",
    "*     **sma_categories.csv** - Contains info about category of products\n",
    "*     **sma_companies.csv** - Contains information about the customer of company X\n",
    "*     **sma_products.csv** - Contains list of products that is sold in the companies\n",
    "We will have a sneak peak into the dataset below "
   ]
  },
  {
   "cell_type": "markdown",
   "metadata": {},
   "source": [
    "# Content:\n",
    "1. Data Preprocessing\n",
    "     - Read the dataset\n",
    "     - Drop null value and several columns\n",
    "     - join dataset into 1 dataset\n",
    "2. Exploratory Data Analysis\n",
    "3. Search correlation between data\n",
    "4. Implement model\n",
    "     - use only data sales \n",
    "     - use with data external such as IHK, Inflasi, IHP\n",
    "5. Use specific data for trend product\n",
    "6. Use Time lag in analysis"
   ]
  },
  {
   "cell_type": "code",
   "execution_count": null,
   "metadata": {},
   "outputs": [],
   "source": []
  }
 ],
 "metadata": {
  "kernelspec": {
   "display_name": "Python 3",
   "language": "python",
   "name": "python3"
  },
  "language_info": {
   "codemirror_mode": {
    "name": "ipython",
    "version": 3
   },
   "file_extension": ".py",
   "mimetype": "text/x-python",
   "name": "python",
   "nbconvert_exporter": "python",
   "pygments_lexer": "ipython3",
   "version": "3.8.3"
  }
 },
 "nbformat": 4,
 "nbformat_minor": 4
}
