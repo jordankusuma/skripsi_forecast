{
 "cells": [
  {
   "cell_type": "markdown",
   "metadata": {},
   "source": [
    "#  Introduction\n",
    "\n",
    "## Problem Statement\n",
    "*  there is a change in trend that occurs due to uncertain conditions causing excessive stock of goods, so sometimes goods that have been purchased cannot be resold because the product has been piling up too long in the inventory.\n",
    "\n",
    "*  determining the storage of stock goods by analyzing using sales data for the previous month / year because the data in the previous month usually has an impact on future sales, while sales that occur do not always follow the previous month's data \n",
    "\n",
    "## Data Provided\n",
    "The Data that is used in this project are\n",
    "*     **sale_items.csv** - Contains the details of historical daily sales of a customer\n",
    "*     **sales.csv** - Contains the historical daily sales of a customer\n",
    "*     **sma_categories.csv** - Contains info about category of products\n",
    "*     **sma_companies.csv** - Contains information about the customer of company X\n",
    "*     **sma_products.csv** - Contains list of products that is sold in the companies\n",
    "We will have a sneak peak into the dataset below "
   ]
  },
  {
   "cell_type": "markdown",
   "metadata": {},
   "source": [
    "# Content:\n",
    "1. Data Preprocessing\n",
    "     - Read the dataset\n",
    "     - Drop null value and several columns\n",
    "     - join dataset into 1 dataset\n",
    "2. Exploratory Data Analysis\n",
    "3. Search correlation between data\n",
    "4. Implement model\n",
    "     - use only data sales \n",
    "     - use with data external such as IHK, Inflasi, IHP\n",
    "5. Use specific data for trend product\n",
    "6. Use Time lag in analysis"
   ]
  },
  {
   "cell_type": "code",
   "execution_count": 1,
   "metadata": {},
   "outputs": [
    {
     "data": {
      "text/html": [
       "        <script type=\"text/javascript\">\n",
       "        window.PlotlyConfig = {MathJaxConfig: 'local'};\n",
       "        if (window.MathJax) {MathJax.Hub.Config({SVG: {font: \"STIX-Web\"}});}\n",
       "        if (typeof require !== 'undefined') {\n",
       "        require.undef(\"plotly\");\n",
       "        requirejs.config({\n",
       "            paths: {\n",
       "                'plotly': ['https://cdn.plot.ly/plotly-latest.min']\n",
       "            }\n",
       "        });\n",
       "        require(['plotly'], function(Plotly) {\n",
       "            window._Plotly = Plotly;\n",
       "        });\n",
       "        }\n",
       "        </script>\n",
       "        "
      ]
     },
     "metadata": {},
     "output_type": "display_data"
    },
    {
     "data": {
      "text/html": [
       "        <script type=\"text/javascript\">\n",
       "        window.PlotlyConfig = {MathJaxConfig: 'local'};\n",
       "        if (window.MathJax) {MathJax.Hub.Config({SVG: {font: \"STIX-Web\"}});}\n",
       "        if (typeof require !== 'undefined') {\n",
       "        require.undef(\"plotly\");\n",
       "        requirejs.config({\n",
       "            paths: {\n",
       "                'plotly': ['https://cdn.plot.ly/plotly-latest.min']\n",
       "            }\n",
       "        });\n",
       "        require(['plotly'], function(Plotly) {\n",
       "            window._Plotly = Plotly;\n",
       "        });\n",
       "        }\n",
       "        </script>\n",
       "        "
      ]
     },
     "metadata": {},
     "output_type": "display_data"
    },
    {
     "data": {
      "text/html": [
       "        <script type=\"text/javascript\">\n",
       "        window.PlotlyConfig = {MathJaxConfig: 'local'};\n",
       "        if (window.MathJax) {MathJax.Hub.Config({SVG: {font: \"STIX-Web\"}});}\n",
       "        if (typeof require !== 'undefined') {\n",
       "        require.undef(\"plotly\");\n",
       "        requirejs.config({\n",
       "            paths: {\n",
       "                'plotly': ['https://cdn.plot.ly/plotly-latest.min']\n",
       "            }\n",
       "        });\n",
       "        require(['plotly'], function(Plotly) {\n",
       "            window._Plotly = Plotly;\n",
       "        });\n",
       "        }\n",
       "        </script>\n",
       "        "
      ]
     },
     "metadata": {},
     "output_type": "display_data"
    }
   ],
   "source": [
    "#load library\n",
    "import numpy as np # linear algebra\n",
    "import pandas as pd # data processing, CSV file I/O (e.g. pd.read_csv)\n",
    "\n",
    "import os #using operating system dependent functionality\n",
    "from datetime import datetime#datetime module supplies classes for manipulating dates and times.\n",
    "import math # provides access to the mathematical functions\n",
    "from IPython.display import display, HTML\n",
    "\n",
    "#For Plotting\n",
    "# Using plotly + cufflinks in offline mode\n",
    "import plotly as py\n",
    "import plotly.graph_objs as go\n",
    "import plotly\n",
    "from plotly.offline import download_plotlyjs, init_notebook_mode, plot, iplot\n",
    "import cufflinks as cf\n",
    "cf.set_config_file(offline=True)\n",
    "init_notebook_mode(connected=True)\n",
    "\n",
    "import matplotlib\n",
    "import matplotlib.pyplot as plt\n",
    "import seaborn as sns\n",
    "\n",
    "#For time series decomposition\n",
    "from matplotlib import pyplot\n",
    "from statsmodels.tsa.seasonal import seasonal_decompose\n",
    "\n",
    "from datetime import timedelta\n",
    "\n",
    "#Pandas option\n",
    "pd.options.display.float_format = '{:.2f}'.format"
   ]
  },
  {
   "cell_type": "markdown",
   "metadata": {},
   "source": [
    "# 1. Data Preprocessing"
   ]
  },
  {
   "cell_type": "markdown",
   "metadata": {},
   "source": [
    "## 1.1 Read Dataset"
   ]
  },
  {
   "cell_type": "code",
   "execution_count": 2,
   "metadata": {},
   "outputs": [
    {
     "name": "stderr",
     "output_type": "stream",
     "text": [
      "C:\\Users\\USER\\anaconda3\\lib\\site-packages\\IPython\\core\\interactiveshell.py:3071: DtypeWarning:\n",
      "\n",
      "Columns (10) have mixed types.Specify dtype option on import or set low_memory=False.\n",
      "\n",
      "C:\\Users\\USER\\anaconda3\\lib\\site-packages\\IPython\\core\\interactiveshell.py:3071: DtypeWarning:\n",
      "\n",
      "Columns (14) have mixed types.Specify dtype option on import or set low_memory=False.\n",
      "\n"
     ]
    }
   ],
   "source": [
    "#read dataset\n",
    "df_sales = pd.read_csv('proyek_skripsi/sales.csv')\n",
    "df_sale_items = pd.read_csv('proyek_skripsi/sale_items.csv')\n",
    "df_products = pd.read_csv('proyek_skripsi/sma_products.csv')\n",
    "df_category = pd.read_csv('proyek_skripsi/sma_categories.csv')\n",
    "df_companies = pd.read_csv('proyek_skripsi/sma_companies.csv')\n",
    "df_ihk_inflasi = pd.read_csv(\"proyek_skripsi/Data_IHK_Inflasi_Nasional.csv\")\n",
    "df_ihp = pd.read_csv(\"proyek_skripsi/DataIHPKhususPlastikKaret.csv\")"
   ]
  },
  {
   "cell_type": "markdown",
   "metadata": {},
   "source": [
    "## 1.2 Clean Dataset"
   ]
  },
  {
   "cell_type": "code",
   "execution_count": 3,
   "metadata": {},
   "outputs": [],
   "source": [
    "def clean_data(dropped_column, df, negative_column = []):\n",
    "    df = df.drop(dropped_column, axis=1)\n",
    "    df = df[(df[negative_column] >= 0).all(1)]\n",
    "    #df = df.fillna(0)\n",
    "    df = df.dropna()\n",
    "    return df"
   ]
  },
  {
   "cell_type": "code",
   "execution_count": 4,
   "metadata": {},
   "outputs": [
    {
     "name": "stdout",
     "output_type": "stream",
     "text": [
      "<class 'pandas.core.frame.DataFrame'>\n",
      "Int64Index: 17392 entries, 0 to 17496\n",
      "Data columns (total 4 columns):\n",
      " #   Column       Non-Null Count  Dtype  \n",
      "---  ------       --------------  -----  \n",
      " 0   sale_id      17392 non-null  int64  \n",
      " 1   date         17392 non-null  object \n",
      " 2   customer_id  17392 non-null  int64  \n",
      " 3   total        17392 non-null  float64\n",
      "dtypes: float64(1), int64(2), object(1)\n",
      "memory usage: 679.4+ KB\n"
     ]
    }
   ],
   "source": [
    "dropped_sales = ['note', 'staff_note', 'order_discount_id', 'updated_by', 'updated_at', 'return_id', \n",
    "                 'attachment', 'return_sale_ref', 'sale_id', 'rounding', 'suspend_note', 'address_id', \n",
    "                 'reserve_id', 'salesman_id', 'salesman_commission', 'total_commission', 'product_discount', \n",
    "                 'total_discount', 'grand_total', 'payment_term', 'due_date', 'paid', 'customer', 'quote_id', \n",
    "                 'reference_no', 'biller_id', 'biller', 'warehouse_id', 'order_discount', 'product_tax', \n",
    "                 'order_tax_id', 'order_tax', 'total_tax', 'shipping', 'pos', 'surcharge', 'api', 'shop', 'hash', \n",
    "                 'created_by', 'sale_status', 'payment_status', 'return_sale_total', 'total_items']\n",
    "\n",
    "df_sales = clean_data(dropped_sales, df_sales, ['total'])\n",
    "df_sales = df_sales.rename(columns={'id': 'sale_id'})\n",
    "df_sales = df_sales.loc[(df_sales['date'] >= '2017-02-31')]\n",
    "df_sales.info()"
   ]
  },
  {
   "cell_type": "code",
   "execution_count": 5,
   "metadata": {},
   "outputs": [
    {
     "name": "stdout",
     "output_type": "stream",
     "text": [
      "<class 'pandas.core.frame.DataFrame'>\n",
      "Int64Index: 52393 entries, 5 to 52594\n",
      "Data columns (total 9 columns):\n",
      " #   Column           Non-Null Count  Dtype  \n",
      "---  ------           --------------  -----  \n",
      " 0   sale_id          52393 non-null  int64  \n",
      " 1   product_id       52393 non-null  int64  \n",
      " 2   product_code     52393 non-null  object \n",
      " 3   product_name     52393 non-null  object \n",
      " 4   quantity         52393 non-null  float64\n",
      " 5   discount         52393 non-null  object \n",
      " 6   item_discount    52393 non-null  float64\n",
      " 7   subtotal         52393 non-null  float64\n",
      " 8   real_unit_price  52393 non-null  float64\n",
      "dtypes: float64(4), int64(2), object(3)\n",
      "memory usage: 4.0+ MB\n"
     ]
    }
   ],
   "source": [
    "dropped_saleitems = ['serial_no', 'sale_item_id', 'comment', 'id', 'product_type', 'option_id', 'unit_price', \n",
    "                     'net_unit_price', 'warehouse_id', 'item_tax', 'tax_rate_id', 'tax', 'product_unit_id', \n",
    "                     'product_unit_code', 'unit_quantity']\n",
    "\n",
    "df_sale_items = clean_data(dropped_saleitems, df_sale_items, ['quantity', 'item_discount', 'real_unit_price', 'subtotal'])\n",
    "df_sale_items.info()"
   ]
  },
  {
   "cell_type": "code",
   "execution_count": 6,
   "metadata": {},
   "outputs": [
    {
     "name": "stdout",
     "output_type": "stream",
     "text": [
      "<class 'pandas.core.frame.DataFrame'>\n",
      "Int64Index: 5746 entries, 0 to 5745\n",
      "Data columns (total 3 columns):\n",
      " #   Column       Non-Null Count  Dtype  \n",
      "---  ------       --------------  -----  \n",
      " 0   product_id   5746 non-null   int64  \n",
      " 1   cost         5746 non-null   float64\n",
      " 2   category_id  5746 non-null   int64  \n",
      "dtypes: float64(1), int64(2)\n",
      "memory usage: 179.6 KB\n"
     ]
    }
   ],
   "source": [
    "dropped_product = ['code', 'name', 'unit', 'product_price', 'alert_quantity', 'image', 'subcategory_id', 'cf1', 'cf2', 'cf3', 'cf4',\n",
    "       'cf5', 'cf6', 'quantity', 'tax_rate', 'track_quantity', 'details',\n",
    "       'warehouse', 'barcode_symbology', 'file', 'product_details',\n",
    "       'tax_method', 'type', 'supplier1', 'supplier1price', 'supplier2',\n",
    "       'supplier2price', 'supplier3', 'supplier3price', 'supplier4',\n",
    "       'supplier4price', 'supplier5', 'supplier5price', 'promotion',\n",
    "       'promo_price', 'start_date', 'end_date', 'supplier1_part_no',\n",
    "       'supplier2_part_no', 'supplier3_part_no', 'supplier4_part_no',\n",
    "       'supplier5_part_no', 'sale_unit', 'purchase_unit', 'brand', 'slug',\n",
    "       'featured', 'weight']\n",
    "\n",
    "df_products = clean_data(dropped_product, df_products)\n",
    "df_products = df_products.rename(columns={'id': 'product_id'})\n",
    "df_products.info()"
   ]
  },
  {
   "cell_type": "code",
   "execution_count": 7,
   "metadata": {},
   "outputs": [
    {
     "name": "stdout",
     "output_type": "stream",
     "text": [
      "<class 'pandas.core.frame.DataFrame'>\n",
      "Int64Index: 40 entries, 0 to 39\n",
      "Data columns (total 3 columns):\n",
      " #   Column         Non-Null Count  Dtype \n",
      "---  ------         --------------  ----- \n",
      " 0   category_id    40 non-null     int64 \n",
      " 1   category_code  40 non-null     object\n",
      " 2   category_name  40 non-null     object\n",
      "dtypes: int64(1), object(2)\n",
      "memory usage: 1.2+ KB\n"
     ]
    }
   ],
   "source": [
    "dropped_category = ['image', 'parent_id', 'slug']\n",
    "\n",
    "df_category = clean_data(dropped_category, df_category)\n",
    "df_category = df_category.rename(columns={'id': 'category_id', 'code': 'category_code', 'name': 'category_name'})\n",
    "df_category.info()"
   ]
  },
  {
   "cell_type": "code",
   "execution_count": 8,
   "metadata": {},
   "outputs": [
    {
     "name": "stdout",
     "output_type": "stream",
     "text": [
      "<class 'pandas.core.frame.DataFrame'>\n",
      "Int64Index: 441 entries, 0 to 454\n",
      "Data columns (total 3 columns):\n",
      " #   Column       Non-Null Count  Dtype \n",
      "---  ------       --------------  ----- \n",
      " 0   customer_id  441 non-null    int64 \n",
      " 1   company      441 non-null    object\n",
      " 2   city         441 non-null    object\n",
      "dtypes: int64(1), object(2)\n",
      "memory usage: 13.8+ KB\n"
     ]
    }
   ],
   "source": [
    "dropped_companies = ['group_id', 'vat_no', 'group_name', 'customer_group_id',\n",
    "       'customer_group_name', 'name', 'address', 'state', 'postal_code', 'country', 'phone', 'email', 'cf1', 'cf2',\n",
    "       'cf3', 'cf4', 'cf5', 'cf6', 'invoice_footer', 'payment_term', 'logo',\n",
    "       'award_points', 'deposit_amount', 'price_group_id', 'price_group_name',\n",
    "       'email_footer']\n",
    "\n",
    "df_companies = clean_data(dropped_companies, df_companies)\n",
    "df_companies = df_companies.rename(columns={'id': 'customer_id'})\n",
    "df_companies = df_companies[~df_companies.city.str.contains(\"-\")]\n",
    "df_companies.info()"
   ]
  },
  {
   "cell_type": "markdown",
   "metadata": {},
   "source": [
    "### make variant of location into one location"
   ]
  },
  {
   "cell_type": "code",
   "execution_count": 9,
   "metadata": {
    "scrolled": true
   },
   "outputs": [
    {
     "name": "stderr",
     "output_type": "stream",
     "text": [
      "C:\\Users\\USER\\anaconda3\\lib\\site-packages\\pandas\\core\\strings.py:1954: UserWarning:\n",
      "\n",
      "This pattern has match groups. To actually get the groups, use str.extract.\n",
      "\n"
     ]
    },
    {
     "data": {
      "text/plain": [
       "JAWA             201\n",
       "SULAWESI         126\n",
       "KALIMANTAN        67\n",
       "PAPUA             33\n",
       "NUSA TENGGARA     13\n",
       "SUMATRA            1\n",
       "Name: city, dtype: int64"
      ]
     },
     "execution_count": 9,
     "metadata": {},
     "output_type": "execute_result"
    }
   ],
   "source": [
    "#change list into Jawa\n",
    "list_jawa = ['JAWA TIMUR', 'BALI', 'SURABAYA', 'MADURA', 'JAWA TENGAH', 'JAKARTA', 'DENPASAR', 'JAWA TINUR', 'SBY', 'PARE-KEDIRI, JATIM', 'BAU BAU', 'BONDOWOSO', \n",
    "    'GRESIK', 'TULUNGAGUNG, JAWA TIMUR', 'LOMBOK', 'JAWA TENGGAH', 'BLITAR, JAWA TIMUR',\n",
    "    'JOGJA', '( PERUM DARMO SENTOSA RAYA) ,SURABAYA', 'JAKARTA BARAT', 'BLORA, JAWA TENGAH'\n",
    "    'PASURUAN, JAWA TIMUR', 'BOJONEGORO', 'JAWA BARAT', 'GENTENG', 'CEPU', 'KEDIRI, JAWA TIMUR', 'SURABAYA, JATIM', 'MALANG']\n",
    "\n",
    "for i in list_jawa:\n",
    "    df_companies.loc[df_companies['city'].str.contains(i), 'city'] = 'JAWA'\n",
    "\n",
    "    \n",
    "#change list into sulawesi\n",
    "list_sulawesi = [\"BANGGAI, SULAWESI\", \"SLAWESI\", \"WAKATOBI, SULAWESI\", \"MAKASAR\"]\n",
    "\n",
    "for i in list_sulawesi:\n",
    "    df_companies.loc[df_companies['city'].str.contains(i), 'city'] = 'SULAWESI'\n",
    "\n",
    "    \n",
    "#change list into papua\n",
    "list_papua = [\"JAYAPURA\", \"MERAUKE\"]\n",
    "\n",
    "for i in list_papua:\n",
    "    df_companies.loc[df_companies['city'].str.contains(i), 'city'] = 'PAPUA'\n",
    "\n",
    "\n",
    "#change list into kalimantan\n",
    "df_companies.loc[df_companies['city'].str.contains(\" KALIMANTAN\"), 'city'] = 'KALIMANTAN'\n",
    "\n",
    "\n",
    "#change list into nusa tenggara\n",
    "list_nusatenggara = [\"NTT\", \"NTB\"]\n",
    "\n",
    "for i in list_nusatenggara:\n",
    "    df_companies.loc[df_companies['city'].str.contains(i), 'city'] = 'NUSA TENGGARA'\n",
    "\n",
    "\n",
    "df_companies['city'].value_counts()"
   ]
  },
  {
   "cell_type": "code",
   "execution_count": null,
   "metadata": {},
   "outputs": [],
   "source": []
  }
 ],
 "metadata": {
  "kernelspec": {
   "display_name": "Python 3",
   "language": "python",
   "name": "python3"
  },
  "language_info": {
   "codemirror_mode": {
    "name": "ipython",
    "version": 3
   },
   "file_extension": ".py",
   "mimetype": "text/x-python",
   "name": "python",
   "nbconvert_exporter": "python",
   "pygments_lexer": "ipython3",
   "version": "3.8.3"
  }
 },
 "nbformat": 4,
 "nbformat_minor": 4
}
